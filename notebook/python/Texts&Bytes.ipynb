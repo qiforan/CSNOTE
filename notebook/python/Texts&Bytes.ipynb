{
 "cells": [
  {
   "cell_type": "markdown",
   "metadata": {
    "collapsed": true,
    "pycharm": {
     "name": "#%% md\n"
    }
   },
   "source": [
    "# 第 4 章　文本和字节序列\n",
    "\n",
    "Python 3 明确区分了人类可读的文本字符串和原始的字节序列。\n",
    "\n",
    "本章将要讨论 Unicode 字符串、二进制序列，以及在二者之间转换时使用的编码。\n",
    "\n",
    "## Byte Objects vs String\n",
    "\n",
    "* Byte objects are sequence of **Bytes**, whereas Strings are sequence of **characters**.\n",
    "* Byte objects are in **machine readable** form internally, Strings are only in **human readable** form.\n",
    "* Since Byte objects are machine readable, they can be **directly stored on the disk**. Whereas, Strings **need encoding** before which they can be stored on disk."
   ]
  },
  {
   "cell_type": "markdown",
   "source": [
    "## 4.1 字符问题\n",
    "\n",
    "显然，一个字符串是一个字符序列。以下讨论字符。\n",
    "\n",
    "* 从 Python 3 的str 对象中获取的元素是 Unicode 字符\n",
    "\n",
    "* 从 Python 2 的 str 对象中获取的是原始字节序列\n",
    "\n",
    "Unicode 标准把字符的标识和具体的字节表述进行了如下的明确区分。\n",
    "\n",
    "* 字符的标识，即码位，是 `0~1 114 111`的数字（十进制），在Unicode 标准中以 4~6 个十六进制数字表示，而且加前缀“U+”。例\n",
    "如，字母 A 的码位是 `U+0041`，欧元符号的码位是 `U+20AC`，高音谱号的码位是 `U+1D11E`。\n",
    "在 Unicode 6.3 中（这是 Python 3.4 使用的标准），约 10% 的有效码位有对应的字符。\n",
    "\n",
    "* 字符的具体表述取决于所用的编码。编码是在码位和字节序列之间转换时使用的算法。\n",
    "在 UTF-8 编码中， A（U+0041）的码位编码成单个字节 `\\x41`，而在 UTF-16LE 编码中编码成两个字节`\\x41\\x00`。\n",
    "再举个例子，欧元符号（U+20AC）在 UTF-8 编码中是三个字节——`\\xe2\\x82\\xac`，而在 UTF-16LE 中编码成两个字节： `\\xac\\x20`\n",
    "\n",
    "把码位转换成字节序列的过程是**编码**；把字节序列转换成码位的过程是**解码**。\n",
    "\n",
    ">字符串是文本的抽象表示。字符串由字符组成，字符则是与任何特定二进制表示无关的抽象实体。\n",
    ">在操作字符串时，我们生活在幸福的无知之中。我们可以对字符串进行分割和分片，可以拼接和搜索字符串。\n",
    ">我们并不关心它们内部是怎么表示的，字符串里的每个字符要用几个字节保存。\n",
    ">只有在将字符串编码成字节包（例如，为了在信道上发送它们）或从字节包解码字符串（反向操作）时，我们才会开始关注这点。\n",
    "\n",
    "![str&bytes](../image/Python_str_&_bytes.png)"
   ],
   "metadata": {
    "collapsed": false
   }
  },
  {
   "cell_type": "code",
   "execution_count": 1,
   "outputs": [
    {
     "data": {
      "text/plain": "4"
     },
     "execution_count": 1,
     "metadata": {},
     "output_type": "execute_result"
    }
   ],
   "source": [
    "# 字符串有 4 个 Unicode 字符\n",
    "s = 'café'\n",
    "len(s)"
   ],
   "metadata": {
    "collapsed": false,
    "pycharm": {
     "name": "#%%\n"
    }
   }
  },
  {
   "cell_type": "code",
   "execution_count": 2,
   "outputs": [
    {
     "data": {
      "text/plain": "5"
     },
     "execution_count": 2,
     "metadata": {},
     "output_type": "execute_result"
    }
   ],
   "source": [
    "#  str 对象编码成 bytes 对象\n",
    "b = s.encode('utf8')\n",
    "len(b)"
   ],
   "metadata": {
    "collapsed": false,
    "pycharm": {
     "name": "#%%\n"
    }
   }
  },
  {
   "cell_type": "code",
   "execution_count": 3,
   "outputs": [
    {
     "data": {
      "text/plain": "b'caf\\xc3\\xa9'"
     },
     "execution_count": 3,
     "metadata": {},
     "output_type": "execute_result"
    }
   ],
   "source": [
    "b"
   ],
   "metadata": {
    "collapsed": false,
    "pycharm": {
     "name": "#%%\n"
    }
   }
  },
  {
   "cell_type": "code",
   "execution_count": 4,
   "outputs": [
    {
     "data": {
      "text/plain": "'café'"
     },
     "execution_count": 4,
     "metadata": {},
     "output_type": "execute_result"
    }
   ],
   "source": [
    "b.decode('utf8')"
   ],
   "metadata": {
    "collapsed": false,
    "pycharm": {
     "name": "#%%\n"
    }
   }
  },
  {
   "cell_type": "markdown",
   "source": [
    "Python3 的`str`是字符串序列，`bytes`是字节序列，打印的时候前面有`b`"
   ],
   "metadata": {
    "collapsed": false,
    "pycharm": {
     "name": "#%% md\n"
    }
   }
  },
  {
   "cell_type": "markdown",
   "source": [
    "## 4.2　字节概要\n",
    "\n",
    "Python 2.6 添加的可变 `bytearray` 类型。\n",
    "\n",
    "Python 3 引入的不可变`bytes` 类型\n",
    "\n",
    "bytes 或 bytearray 对象的各个元素是介于 0~255（含）之间的整数"
   ],
   "metadata": {
    "collapsed": false,
    "pycharm": {
     "name": "#%% md\n"
    }
   }
  },
  {
   "cell_type": "code",
   "execution_count": 5,
   "outputs": [
    {
     "data": {
      "text/plain": "b'caf\\xc3\\xa9'"
     },
     "execution_count": 5,
     "metadata": {},
     "output_type": "execute_result"
    }
   ],
   "source": [
    "# bytes 对象可以从 str 对象使用给定的编码\n",
    "cafe = bytes('café', encoding='utf_8')\n",
    "cafe"
   ],
   "metadata": {
    "collapsed": false,
    "pycharm": {
     "name": "#%%\n"
    }
   }
  },
  {
   "cell_type": "code",
   "execution_count": 6,
   "outputs": [
    {
     "data": {
      "text/plain": "99"
     },
     "execution_count": 6,
     "metadata": {},
     "output_type": "execute_result"
    }
   ],
   "source": [
    "cafe[0]"
   ],
   "metadata": {
    "collapsed": false,
    "pycharm": {
     "name": "#%%\n"
    }
   }
  },
  {
   "cell_type": "code",
   "execution_count": 7,
   "outputs": [
    {
     "data": {
      "text/plain": "b'c'"
     },
     "execution_count": 7,
     "metadata": {},
     "output_type": "execute_result"
    }
   ],
   "source": [
    "# bytes 对象的切片还是 bytes 对象，即使是只有一个字节的切片。\n",
    "cafe[:1]"
   ],
   "metadata": {
    "collapsed": false,
    "pycharm": {
     "name": "#%%\n"
    }
   }
  },
  {
   "cell_type": "code",
   "execution_count": 8,
   "outputs": [
    {
     "data": {
      "text/plain": "bytearray(b'caf\\xc3\\xa9')"
     },
     "execution_count": 8,
     "metadata": {},
     "output_type": "execute_result"
    }
   ],
   "source": [
    "#  bytearray 对象没有字面量句法，而是以 bytearray() 和字节序列字面量参数的形式显示\n",
    "cafe_arr = bytearray(cafe)\n",
    "cafe_arr"
   ],
   "metadata": {
    "collapsed": false,
    "pycharm": {
     "name": "#%%\n"
    }
   }
  },
  {
   "cell_type": "code",
   "execution_count": 9,
   "outputs": [
    {
     "data": {
      "text/plain": "bytearray(b'\\xa9')"
     },
     "execution_count": 9,
     "metadata": {},
     "output_type": "execute_result"
    }
   ],
   "source": [
    "# bytearray 对象的切片还是 bytearray 对象\n",
    "cafe_arr[-1:]"
   ],
   "metadata": {
    "collapsed": false,
    "pycharm": {
     "name": "#%%\n"
    }
   }
  },
  {
   "cell_type": "markdown",
   "source": [
    "虽然二进制序列其实是整数序列，但是它们的字面量表示法表明其中有ASCII 文本\n",
    "\n",
    "因此，各个字节的值可能会使用下列三种不同的方式显示。\n",
    "\n",
    "* 可打印的 ASCII 范围内的字节（从空格到 ~），使用 ASCII 字符本身。\n",
    "\n",
    "* 制表符、换行符、回车符和 \\ 对应的字节，使用转义序列\\t、 \\n、 \\r 和 \\\\。\n",
    "\n",
    "* 其他字节的值，使用十六进制转义序列（例如， \\x00 是空字节）。\n",
    "\n",
    "\n",
    "除了格式化方法（`format` 和 `format_map`）和几个处理 Unicode 数据的方法（包括`casefold`、 `isdecimal`、 `isidentifier`、 `isnumeric`、 `isprintable`\n",
    "和 `encode`）之外， `str` 类型的其他方法都支持 `bytes` 和 `bytearray`\n",
    "类型。\n",
    "\n",
    "我们可以使用熟悉的字符串方法处理二进制序列，如`endswith`、 `replace`、 `strip`、 `translate`、 `upper` 等，\n",
    "只有少数几个其他方法的参数是 `bytes` 对象，而不是 `str` 对象。\n",
    "\n",
    "二进制序列有个类方法是 str 没有的，名为 `fromhex`，它的作用是解析十六进制数字对（数字对之间的空格是可选的），构建二进制序列\n",
    "\n",
    "## 4.3　基本的编解码器\n",
    "\n",
    "Python 自带了超过 100 种编解码器（`codec`, `encoder/decoder`），用于在文本和字节之间相互转换。\n",
    "\n",
    "每个编解码器都有一个名称，如'utf_8'，而且经常有几个别名，如 'utf8'、 'utf-8' 和 'U8'。\n",
    "\n",
    "这些名称可以传给 `open()`、 `str.encode()`、 `bytes.decode()` 等函数的 encoding 参数。\n",
    "\n",
    "一些典型编码，介绍如下\n",
    "\n",
    "* latin1（即 iso8859_1）\n",
    "    一种重要的编码，是其他编码的基础，例如 cp1252 和\n",
    "Unicode（注意， latin1 与 cp1252 的字节值是一样的，甚至连码位\n",
    "也相同）。\n",
    "\n",
    "* cp1252\n",
    "    Microsoft 制定的 latin1 超集，添加了有用的符号，例如弯引号\n",
    "和€（欧元）；有些 Windows 应用把它称为“ANSI”，但它并不是 ANSI\n",
    "标准。\n",
    "\n",
    "* cp437\n",
    "    IBM PC 最初的字符集，包含框图符号。与后来出现的 latin1 不\n",
    "兼容。\n",
    "\n",
    "* gb2312\n",
    "　　用于编码简体中文的陈旧标准；这是亚洲语言中使用较广泛的多字\n",
    "节编码之一。\n",
    "\n",
    "* utf-8\n",
    "　　目前 Web 中最常见的 8 位编码； 与 ASCII 兼容（纯 ASCII 文本是\n",
    "有效的 UTF-8 文本）。\n",
    "\n",
    "\n",
    "\n"
   ],
   "metadata": {
    "collapsed": false,
    "pycharm": {
     "name": "#%% md\n"
    }
   }
  },
  {
   "cell_type": "markdown",
   "source": [
    "## 4.4　了解编解码问题\n",
    "\n",
    "### 4.4.1　处理UnicodeEncodeError\n",
    "\n",
    "多数非 UTF 编解码器只能处理 Unicode 字符的一小部分子集。把文本转换成字节序列时，\n",
    "如果目标编码中没有定义某个字符，那就会抛出`UnicodeEncodeError` 异常，\n",
    "除非把 errors 参数传给编码方法或函数，对错误进行特殊处理。\n",
    "\n",
    "### 4.4.2　处理UnicodeDecodeError\n",
    "\n",
    "不是每一个字节都包含有效的 ASCII 字符，也不是每一个字符序列都是有效的 UTF-8 或 UTF-16。\n",
    "因此，把二进制序列转换成文本时，如果假设是这两个编码中的一个，遇到无法转换的字节序列时会抛出\n",
    "`UnicodeDecodeError`。\n",
    "\n",
    "很多陈旧的 8 位编码——如 'cp1252'、 'iso8859_1' 和'koi8_r'——能解码任何字节序列流而不抛出错误，例如随机噪声。\n",
    "因此，如果程序使用错误的 8 位编码，解码过程悄无声息，而得到的是无用输出。\n",
    "\n",
    "### 4.4.3　使用预期之外的编码加载模块时抛出的SyntaxError\n",
    "\n",
    "Python 3 默认使用 UTF-8 编码源码， Python 2（从 2.5 开始）则默认使用\n",
    "ASCII。\n",
    "\n",
    "如果加载的 .py 模块中包含 UTF-8 之外的数据，而且没有声明编码，会得到类似下面的消息\n",
    "\n",
    ">SyntaxError: Non-UTF-8 code starting with '\\xe1' in file ola.py on line\n",
    "1, but no encoding declared; see http://python.org/dev/peps/pep-0263/\n",
    "for details\n",
    ">\n",
    "\n",
    "GNU/Linux 和 OS X 系统大都使用 UTF-8，因此打开在 Windows 系统中使用 cp1252 编码的 .py 文件时可能发生这种情况。\n",
    "\n",
    "这个错误在Windows 版 Python 中也可能会发生，因为 Python 3 为所有平台设置的默认编码都是 UTF-8。\n",
    "\n",
    "### 4.4.4　如何找出字节序列的编码\n",
    "\n",
    "如何找出字节序列的编码？简单来说，不能。必须有人告诉你。\n",
    "\n",
    "然而，就像人类语言也有规则和限制一样，只要假定字节流是人类可读的纯文本，就可能通过试探和分析找出编码。\n",
    "\n",
    "二进制序列编码文本通常不会明确指明自己的编码，但是 UTF 格式可以在文本内容的开头添加一个字节序标记。\n",
    "\n",
    "### 4.4.5 BOM：有用的鬼符\n",
    "\n",
    "UTF-16 编码的序列开头有几个额外的字节，如下所示：\n"
   ],
   "metadata": {
    "collapsed": false,
    "pycharm": {
     "name": "#%% md\n"
    }
   }
  },
  {
   "cell_type": "code",
   "execution_count": 10,
   "outputs": [
    {
     "data": {
      "text/plain": "b'\\xff\\xfeE\\x00l\\x00 \\x00N\\x00i\\x00\\xf1\\x00o\\x00'"
     },
     "execution_count": 10,
     "metadata": {},
     "output_type": "execute_result"
    }
   ],
   "source": [
    "u16 = 'El Niño'.encode('utf_16')\n",
    "u16"
   ],
   "metadata": {
    "collapsed": false,
    "pycharm": {
     "name": "#%%\n"
    }
   }
  },
  {
   "cell_type": "markdown",
   "source": [
    "`b'\\xff\\xfe'`是 BOM，即字节序标记（ byte-ordermark），指明编码时使用 Intel CPU 的小字节序。\n",
    "\n",
    "在小字节序设备中，各个码位的最低有效字节在前面：字母 'E' 的码位是 U+0045（十进制数 69），在字节偏移的第 2 位和第 3 位编码为 69\n",
    "和 0。\n",
    "\n",
    "在大字节序 CPU 中，编码顺序是相反的； 'E' 编码为 0 和 69。\n",
    "\n",
    "为了避免混淆， UTF-16 编码在要编码的文本前面加上特殊的不可见字符 ZERO WIDTH NO-BREAK SPACE（ U+FEFF）。\n",
    "在小字节序系统中，这个字符编码为 b'\\xff\\xfe'（十进制数 255, 254）。\n",
    "因为按照设计， U+FFFE 字符不存在，在小字节序编码中，字节序列b'\\xff\\xfe' 必定是 ZERO WIDTH NO-BREAK SPACE，所以编解码器知道该用哪个字节序\n",
    "\n",
    "UTF-8 的一大优势是，不管设备使用哪种字节序，生成的字节序列始终一致，因此不需要 BOM。\n",
    "尽管如此，某些Windows 应用（尤其是 Notepad）依然会在 UTF-8 编码的文件中添加BOM；\n",
    "而且， Excel 会根据有没有 BOM 确定文件是不是 UTF-8 编码，否则，它假设内容使用 Windows 代码页（codepage）编码。\n",
    " UTF-8 编码的 U+FEFF 字符是一个三字节序列： b'\\xef\\xbb\\xbf'。\n",
    "因此，如果文件以这三个字节开头，有可能是带有 BOM 的 UTF-8 文件。\n",
    "然而，Python 不会因为文件以 b'\\xef\\xbb\\xbf' 开头就自动假定它是 UTF-8 编码的"
   ],
   "metadata": {
    "collapsed": false,
    "pycharm": {
     "name": "#%% md\n"
    }
   }
  },
  {
   "cell_type": "markdown",
   "source": [
    "## 4.5　处理文本文件\n",
    "\n",
    "处理文本的最佳实践是“Unicode 三明治”,要尽早把输入（例如读取文件时）的字节序列解码成字符串。\n",
    "\n",
    "对输出来说，则要尽量晚地把字符串编码成字节序列。\n",
    "\n",
    "例如，在 Django 中，视图应该输出 Unicode 字符串；Django 会负责把响应编码成字节序列，而且默认使用 UTF-8 编码。\n",
    "\n",
    "Python 3 内置的 `open`函数会在读取文件时做必要的解码，以文本模式写入文件时还会做必要的编码，\n",
    "所以调用 `my_file.read()` 方法得到的以及传给`my_file.write(text)` 方法的都是字符串对象。\n",
    "\n",
    "## 4.6 为了正确比较而规范化Unicode字符串\n",
    "\n",
    "## 4.7 Unicode文本排序\n"
   ],
   "metadata": {
    "collapsed": false,
    "pycharm": {
     "name": "#%% md\n"
    }
   }
  }
 ],
 "metadata": {
  "kernelspec": {
   "display_name": "Python 3",
   "language": "python",
   "name": "python3"
  },
  "language_info": {
   "codemirror_mode": {
    "name": "ipython",
    "version": 2
   },
   "file_extension": ".py",
   "mimetype": "text/x-python",
   "name": "python",
   "nbconvert_exporter": "python",
   "pygments_lexer": "ipython2",
   "version": "3.6.9-final"
  }
 },
 "nbformat": 4,
 "nbformat_minor": 0
}