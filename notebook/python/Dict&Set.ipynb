{
 "cells": [
  {
   "cell_type": "markdown",
   "metadata": {
    "collapsed": true,
    "pycharm": {
     "name": "#%% md\n"
    }
   },
   "source": [
    "# 第三章 字典和集合\n",
    "\n",
    "字典(dict)和集合(set)的实现都是基于散列表\n",
    "\n",
    "## 3.1 泛映射类型\n",
    "\n",
    "## 3.2 字典推导\n",
    "\n",
    "字典推导（dictcomp）可以从任何以键值对作为元素的可迭代对象中构建出字典。"
   ]
  },
  {
   "cell_type": "code",
   "execution_count": 1,
   "outputs": [
    {
     "data": {
      "text/plain": "{'China': 86,\n 'India': 91,\n 'United States': 1,\n 'Indonesia': 62,\n 'Brazil': 55,\n 'Pakistan': 92,\n 'Bangladesh': 880,\n 'Nigeria': 234,\n 'Russia': 7,\n 'Japan': 81}"
     },
     "execution_count": 1,
     "metadata": {},
     "output_type": "execute_result"
    }
   ],
   "source": [
    "DIAL_CODES = [\n",
    "    (86, 'China'),\n",
    "    (91, 'India'),\n",
    "    (1, 'United States'),\n",
    "    (62, 'Indonesia'),\n",
    "    (55, 'Brazil'),\n",
    "    (92, 'Pakistan'),\n",
    "    (880, 'Bangladesh'),\n",
    "    (234, 'Nigeria'),\n",
    "    (7, 'Russia'),\n",
    "    (81, 'Japan')\n",
    "]\n",
    "country_code = {country: code for code, country in DIAL_CODES}\n",
    "country_code"
   ],
   "metadata": {
    "collapsed": false,
    "pycharm": {
     "name": "#%%\n"
    }
   }
  },
  {
   "cell_type": "code",
   "execution_count": 2,
   "outputs": [
    {
     "data": {
      "text/plain": "{1: 'UNITED STATES', 62: 'INDONESIA', 55: 'BRAZIL', 7: 'RUSSIA'}"
     },
     "execution_count": 2,
     "metadata": {},
     "output_type": "execute_result"
    }
   ],
   "source": [
    "{code: country.upper() for country, code in country_code.items() if code < 66}\n"
   ],
   "metadata": {
    "collapsed": false,
    "pycharm": {
     "name": "#%%\n"
    }
   }
  },
  {
   "cell_type": "markdown",
   "source": [
    "## 3.3 常见的映射方法\n",
    "\n",
    "映射类型的方法其实很丰富: `dict`、 `defaultdict` 和 `OrderedDict`\n",
    "\n",
    "后面两个数据类型是 `dict` 的变种，位于 `collections` 模块内\n",
    "\n",
    "| method |dict| defaultdict | OrderedDict| help|\n",
    "| :----: | :----: | :----: | :----: | :----: |\n",
    " |`d.clear()` |•| • |• | 移除所有元素| |`d.__contains__(k)`| •| • |•| 检查 k 是否在 d 中| |`d.copy()`| • | •| • | 浅复制|\n",
    "| `d.__copy__()` | - | • | - |用于支持 copy.copy|\n",
    "|`d.default_factory`|- | •| - | 在 `__missing__` 函数中被调用的函数，用以给未找到的元素设置值*|\n",
    "| `d.__delitem__(k)`| •| •| •| `del d[k]`，移除键为 `k` 的元素|\n",
    "|`d.fromkeys(it,[initial])`| •| •| •|将迭代器 it 里的元素设置为映射里的键，如果有 initial 参数，就把它作为这些键对应的值（默认是 None）|\n",
    "|`d.get(k,[default])`| •| •| •| 返回键 k 对应的值，如果字典里没有键 k，则返回 None 或者 default|\n",
    "|`d.__getitem__(k)`| •| •| •| 让字典 d 能用 `d[k]` 的形式返回键 k 对应的值|\n",
    "|`d.items()`| •| •| •| 返回 d 里所有的键值对|\n",
    "|`d.__iter__()`| •| •| •| 获取键的迭代器|\n",
    "|`d.keys()`| •| •| •| 获取所有的键|\n",
    "|`d.__len__()`| •| •| •| 可以用 `len(d)`的形式得到字典里键值对的数量|\n",
    "|`d.__missing__(k)`| - | •| -|  当 `__getitem__` 找不到对应键的时候，这个方法会被调用|\n",
    "|`d.move_to_end(k,[last])`| -| - | •| 把键为 k 的元素移动到最靠前或者最靠后的位置（last 的默认值是 True）\n",
    "|`d.pop(k, [defaul])`|•| •| •| 返回键 k 所对应的值，然后移除这个键值对。如果没有这个键，返回 None 或者 defaul|\n",
    "|`d.popitem()`| •| •| •| 随机返回一个键值对并从字典里移除它#|\n",
    "|`d.__reversed__()`|-|-| •| 返回倒序的键的迭代器|\n",
    "|`d.setdefault(k,[default])`| •| •| •| 若字典里有键k，则把它对应的值设置为 default，然后返回这个值；若无，则让 `d[k] =default`，然后返回 default|\n",
    "|`d.__setitem__(k,v)`| •| •| •| 实现 `d[k] = v` 操作，把 k 对应的值设为v|\n",
    "|`d.update(m,[**kargs])`| •| •| •| m 可以是映射或者键值对迭代器，用来更新 d 里对应的条目|\n",
    "|`d.values()`| •| •| •| 返回字典里的所有值|\n",
    "\n",
    "上面的表格中， `update` 方法处理参数 m 的方式，是典型的“鸭子类型”。\n",
    "函数首先检查 m 是否有 keys 方法，如果有，那么 update 函数就把它当作映射对象来处理。\n",
    "否则，函数会退一步，转而把 m 当作包含了键值对 (key, value) 元素的迭代器。\n",
    "Python 里大多数映射类型的构造方法都采用了类似的逻辑，因此你既可以用一个映射对象来新建一个映射对象，也可以用包含 (key, value) 元素的可迭代对象来初始化一个映射对象"
   ],
   "metadata": {
    "collapsed": false,
    "pycharm": {
     "name": "#%% md\n"
    }
   }
  },
  {
   "cell_type": "markdown",
   "source": [
    "当查找字典某个值不存在的时候，会报错，如果不想抛出异常，可以给一个default的值\n",
    "\n",
    "`d.get(k,default)` 或 `d.setdefault(k,default)`\n",
    "\n",
    "后者会往d中插入一个键值对`(k:default)`"
   ],
   "metadata": {
    "collapsed": false,
    "pycharm": {
     "name": "#%% md\n"
    }
   }
  },
  {
   "cell_type": "markdown",
   "source": [
    "## 3.4　映射的弹性键查询\n",
    "\n",
    "为了方便起见，就算某个键在映射里不存在，我们也希望在通过这个键读取值的时候能得到一个默认值\n",
    "\n",
    "两个方法: 一个是通过 `defaultdict` 这个类型而不是普通的 `dict`，另一个是给自己定义一个 dict 的子类，然后在子类中实现`__missing__`方法\n",
    "\n",
    "### 3.4.1 `defaultdict`：处理找不到的键的一个选择\n",
    "\n",
    "实例化一个 `defaultdict` 的时候，需要给构造方法提供一个可调用对象，\n",
    "这个可调用对象会在 `__getitem__` 碰到找不到的键的时候被调用，让`__getitem__` 返回某种默认值\n"
   ],
   "metadata": {
    "collapsed": false
   }
  }
 ],
 "metadata": {
  "kernelspec": {
   "display_name": "Python 3",
   "language": "python",
   "name": "python3"
  },
  "language_info": {
   "codemirror_mode": {
    "name": "ipython",
    "version": 2
   },
   "file_extension": ".py",
   "mimetype": "text/x-python",
   "name": "python",
   "nbconvert_exporter": "python",
   "pygments_lexer": "ipython2",
   "version": "2.7.6"
  }
 },
 "nbformat": 4,
 "nbformat_minor": 0
}