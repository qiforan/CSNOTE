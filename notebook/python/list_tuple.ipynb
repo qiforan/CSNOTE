{
 "cells": [
  {
   "cell_type": "markdown",
   "metadata": {
    "collapsed": true,
    "pycharm": {
     "name": "#%% md\n"
    }
   },
   "source": [
    "# 2 序列构成的数组\n",
    "\n",
    "本章讨论`list`，Python 3 中特有的 `str` 和 `bytes`，与列表、元组、数组以及队列有关的话题\n",
    "\n",
    "## 2.1 内置序列类型概览\n",
    "\n",
    "* 容器序列: `list`, `tuple` 和 `collections.deque`等能存放不同类型的数据\n",
    "\n",
    "* 扁平序列: `str`, `bytes`, `bytearray`,`memoryview` 和 `array.array`等只能容纳一种序列。\n",
    "\n",
    "还能按照能否被修改来分类\n",
    "\n",
    "* 可变序列: `list`、 `bytearray`、 `array.array`、 `collections.deque` 和 `memoryview`\n",
    "\n",
    "\n",
    "## 2.2 列表推导和生成器表达式\n",
    "\n",
    "列表推导（list comprehension）简称为listcomps，\n",
    "\n",
    "生成式表达器（generator expression）则称为 genexps\n",
    "\n",
    "### 2.2.1 列表推导和可读性"
   ]
  },
  {
   "cell_type": "code",
   "execution_count": 1,
   "outputs": [
    {
     "data": {
      "text/plain": "[36, 162, 163, 165, 8364, 164]"
     },
     "execution_count": 1,
     "metadata": {},
     "output_type": "execute_result"
    }
   ],
   "source": [
    "# 普通写法\n",
    "symbols = '$¢£¥€¤'\n",
    "codes = []\n",
    "for symbol in symbols:\n",
    "    codes.append(ord(symbol))\n",
    "codes"
   ],
   "metadata": {
    "collapsed": false,
    "pycharm": {
     "name": "#%%\n"
    }
   }
  },
  {
   "cell_type": "code",
   "execution_count": 2,
   "outputs": [
    {
     "data": {
      "text/plain": "[36, 162, 163, 165, 8364, 164]"
     },
     "execution_count": 2,
     "metadata": {},
     "output_type": "execute_result"
    }
   ],
   "source": [
    "# 列表表达式\n",
    "\n",
    "symbols = \"$¢£¥€¤\"\n",
    "codes = [ord(symbol) for symbol in symbols]\n",
    "codes"
   ],
   "metadata": {
    "collapsed": false,
    "pycharm": {
     "name": "#%%\n"
    }
   }
  },
  {
   "cell_type": "markdown",
   "source": [
    "通常的原则是，只用列表推导来创建新的列表，并且尽量保持简短。\n",
    "\n",
    "一个**好处**: 列表推导不会再有变量泄漏的问题\n",
    "\n",
    "列表推导、生成器表达式，以及同它们很相似的集合（set）推导和字典（dict）推导，在 Python 3 中都有了自己的局部作用域，就像函数似的\n",
    "\n",
    "filter 和 map 合起来能做的事情，列表推导也可以做，且可读性更强\n",
    "\n",
    "\n",
    "### 笛卡尔积\n",
    "列表推导可以生成两个或以上的可迭代类型的笛卡儿积\n",
    "\n",
    "笛卡儿积是一个列表，列表里的元素是由输入的可迭代类型的元素对构成的元组"
   ],
   "metadata": {
    "collapsed": false,
    "pycharm": {
     "name": "#%% md\n"
    }
   }
  },
  {
   "cell_type": "code",
   "execution_count": 3,
   "outputs": [
    {
     "data": {
      "text/plain": "[('black', 'S'),\n ('black', 'M'),\n ('black', 'L'),\n ('white', 'S'),\n ('white', 'M'),\n ('white', 'L')]"
     },
     "execution_count": 3,
     "metadata": {},
     "output_type": "execute_result"
    }
   ],
   "source": [
    "colors = ['black', 'white']\n",
    "sizes = ['S', 'M', 'L']\n",
    "tshirts = [(color, size) for color in colors for size in sizes]\n",
    "tshirts"
   ],
   "metadata": {
    "collapsed": false,
    "pycharm": {
     "name": "#%%\n"
    }
   }
  },
  {
   "cell_type": "markdown",
   "source": [
    "### 2.2.4　生成器表达式\n",
    "\n",
    "生成器表达式背后遵守了迭代器协议，可以逐个地产出元素，更节省内存"
   ],
   "metadata": {
    "collapsed": false,
    "pycharm": {
     "name": "#%% md\n"
    }
   }
  },
  {
   "cell_type": "code",
   "execution_count": 4,
   "outputs": [
    {
     "name": "stdout",
     "output_type": "stream",
     "text": [
      "<class 'generator'>\n"
     ]
    },
    {
     "data": {
      "text/plain": "(36, 162, 163, 165, 8364, 164)"
     },
     "execution_count": 4,
     "metadata": {},
     "output_type": "execute_result"
    }
   ],
   "source": [
    "symbols = '$¢£¥€¤'\n",
    "t = (ord(symbol) for symbol in symbols)\n",
    "print(type(t))\n",
    "tuple(t)"
   ],
   "metadata": {
    "collapsed": false,
    "pycharm": {
     "name": "#%%\n"
    }
   }
  },
  {
   "cell_type": "code",
   "source": [
    "# 使用生成器表达式计算笛卡儿积\n",
    "\n",
    "colors = ['black', 'white']\n",
    "sizes = ['S', 'M', 'L']\n",
    "# 生成器表达式逐个产出元素\n",
    "for tshirt in ('%s %s' % (c, s) for c in colors for s in sizes):\n",
    "    print(tshirt)"
   ],
   "metadata": {
    "collapsed": false,
    "pycharm": {
     "name": "#%%\n"
    }
   },
   "execution_count": 5,
   "outputs": [
    {
     "name": "stdout",
     "output_type": "stream",
     "text": [
      "black S\n",
      "black M\n",
      "black L\n",
      "white S\n",
      "white M\n",
      "white L\n"
     ]
    }
   ]
  },
  {
   "cell_type": "markdown",
   "source": [
    "## 2.3 元组\n",
    "\n",
    "元组其实是对数据的记录(不可变)：字段内容`+`字段位置\n",
    "\n",
    "元组拆包是一个好用的语法糖, 有很多常见的写法"
   ],
   "metadata": {
    "collapsed": false,
    "pycharm": {
     "name": "#%% md\n"
    }
   }
  },
  {
   "cell_type": "code",
   "execution_count": 6,
   "outputs": [
    {
     "data": {
      "text/plain": "(2, 1)"
     },
     "execution_count": 6,
     "metadata": {},
     "output_type": "execute_result"
    }
   ],
   "source": [
    "# 1. 平行赋值，交换两个变量的值\n",
    "a, b = 1, 2\n",
    "b, a = a, b\n",
    "a, b"
   ],
   "metadata": {
    "collapsed": false,
    "pycharm": {
     "name": "#%%\n"
    }
   }
  },
  {
   "cell_type": "code",
   "execution_count": 7,
   "outputs": [
    {
     "name": "stdout",
     "output_type": "stream",
     "text": [
      "a = 2 b = 1\n"
     ]
    }
   ],
   "source": [
    "# 2. str %语法\n",
    "print(\"a = %d b = %d\" % (a, b))"
   ],
   "metadata": {
    "collapsed": false,
    "pycharm": {
     "name": "#%%\n"
    }
   }
  },
  {
   "cell_type": "code",
   "execution_count": 8,
   "outputs": [
    {
     "data": {
      "text/plain": "(2, 4)"
     },
     "execution_count": 8,
     "metadata": {},
     "output_type": "execute_result"
    }
   ],
   "source": [
    "# 3. 用 * 运算符把一个可迭代对象拆开作为函数的参数\n",
    "\n",
    "t = (20, 8)\n",
    "divmod(*t)"
   ],
   "metadata": {
    "collapsed": false,
    "pycharm": {
     "name": "#%%\n"
    }
   }
  },
  {
   "cell_type": "code",
   "execution_count": 9,
   "outputs": [],
   "source": [
    "# 4. 一个函数可以用元组的形式返回多个值\n",
    "\n",
    "a, b = divmod(20, 8)"
   ],
   "metadata": {
    "collapsed": false,
    "pycharm": {
     "name": "#%%\n"
    }
   }
  },
  {
   "cell_type": "code",
   "execution_count": 10,
   "outputs": [
    {
     "data": {
      "text/plain": "(0, 1, [2, 3, 4])"
     },
     "execution_count": 10,
     "metadata": {},
     "output_type": "execute_result"
    }
   ],
   "source": [
    "# 5. 用*来处理剩下的元素\n",
    "\n",
    "a, b, *rest = range(5)\n",
    "a, b, rest"
   ],
   "metadata": {
    "collapsed": false,
    "pycharm": {
     "name": "#%%\n"
    }
   }
  },
  {
   "cell_type": "code",
   "execution_count": 11,
   "outputs": [
    {
     "data": {
      "text/plain": "(0, 4, [1, 2, 3])"
     },
     "execution_count": 11,
     "metadata": {},
     "output_type": "execute_result"
    }
   ],
   "source": [
    "# *也可以出现在其他位置\n",
    "a, *rest, b = range(5)\n",
    "a, b, rest"
   ],
   "metadata": {
    "collapsed": false,
    "pycharm": {
     "name": "#%%\n"
    }
   }
  },
  {
   "cell_type": "markdown",
   "source": [
    "### 具名元组\n",
    "\n",
    "collections.namedtuple 是一个工厂函数，它可以用来构建一个带字段名的元组和一个有名字的类"
   ],
   "metadata": {
    "collapsed": false,
    "pycharm": {
     "name": "#%% md\n"
    }
   }
  },
  {
   "cell_type": "code",
   "execution_count": 12,
   "outputs": [
    {
     "data": {
      "text/plain": "City(name='Tokyo', country='JP', population=36.933, coordinates=(35.689722, 139.691667))"
     },
     "execution_count": 12,
     "metadata": {},
     "output_type": "execute_result"
    }
   ],
   "source": [
    "from collections import namedtuple\n",
    "City = namedtuple('City', 'name country population coordinates')\n",
    "tokyo = City('Tokyo', 'JP', 36.933, (35.689722, 139.691667))\n",
    "tokyo"
   ],
   "metadata": {
    "collapsed": false,
    "pycharm": {
     "name": "#%%\n"
    }
   }
  },
  {
   "cell_type": "code",
   "execution_count": 13,
   "outputs": [
    {
     "data": {
      "text/plain": "(36.933, (35.689722, 139.691667))"
     },
     "execution_count": 13,
     "metadata": {},
     "output_type": "execute_result"
    }
   ],
   "source": [
    "tokyo.population, tokyo.coordinates"
   ],
   "metadata": {
    "collapsed": false,
    "pycharm": {
     "name": "#%%\n"
    }
   }
  },
  {
   "cell_type": "markdown",
   "source": [
    "除了从普通元组那里继承来的属性之外，具名元组还有一些自己专有的\n",
    "属性。\n",
    "\n",
    "`_fields` 类属性、类方法`_make(iterable)` 和实例方法 `_asdict()`\n",
    "\n",
    "### 元组和列表的比较\n",
    "\n",
    "| 方法和属性 | list | tuple | 解释|\n",
    "| :----: | :----: | :----: | :----: |\n",
    "| `s.__add__(s2)` | y | y | `s + s2`，拼接 |\n",
    "| `s.__iadd__(s2)`| y | n | `s += s2`，就地拼接 |\n",
    "| `s.append(e)` | y | n | 尾部添加元素 |\n",
    "| `s.clear()` | y | n | 删除所有元素 |\n",
    "| `s.__contains__(e)` | y | y | `s`是否包含`e`|\n",
    "| `s.copy()` | y | n | 浅复制 |\n",
    "| `s.count(e)` | y | n | `e`在`s`中出现的次数 |\n",
    "| `s.__delitem__` | y | n | 把位于`p`的元素删除|\n",
    "| `s.extend(it)` | y | n | 把可迭代对象追加到`s`|\n",
    "| `s.__getitem__(p)` | y | y | `s[p]`，获取位置`p`的元素 |\n",
    "| `s.__getnewargs__()` |n | y | 在 `pickle` 中支持更加优化的序列化 |\n",
    "| `s.index(e)` | y | y | 在`s`中找到元素`e`第一次出现的位置 |\n",
    "| `s.insert(p, e)` | y | n | 在位置 `p` 之前插入元素`e` |\n",
    "| `s.__iter__()`| y | y |  获取 `s` 的迭代器  |\n",
    "| `s.__len__()` | y | y | `len(s)`，元素的数量 |\n",
    "| `s.__mul__(n)` | y | y |  `n` 个 `s` 的重复拼接 |\n",
    "| `s.__imul__(n)` | y | n | `s *= n`，就地重复拼接 |\n",
    "| `s.pop([p])` | y | n | 删除最后或者是（可选的）位于 `p` 的元素，并返回它的值 |\n",
    "| `s.remove(e)` | y | n | 删除 `s` 中的第一次出现的 `e` |\n",
    "| `s.reverse()` | y | n | 就地把 `s` 的元素倒序排列 |\n",
    "| `s.__reversed__()` | y | n | 返回 `s` 的倒序迭代器 |\n",
    "| `s.__setitem__(p,e)`| y | n | `s[p] = e`，把元素 `e` 放在位置`p`，替代已经在那个位置的元素|\n",
    "| `s.sort([key],[reverse])` | y | n | 就地对 `s` 中的元素进行排序 |\n",
    "\n",
    "\n",
    "## 2.4　切片\n",
    "\n",
    "切片忽略最后一个元素的好处：\n",
    "\n",
    "* 当只有一个位置信息时，可以快速知道元素个数，`range(3)`和 `my_list[:3]`都返回3个元素\n",
    "\n",
    "* 当起止位置都可见时，可以快速计算出元素个数(`stop - start`)\n",
    "\n",
    "* 可以使用任意一个下标分割成两个不重叠的部分，写成`my_list[:x]`和`my_list[x:]`\n",
    "\n",
    "`a:b:c`这种用法只能作为索引或下标在`[]`中，返回一个切片对象: `slice(a,b,c)`\n",
    "\n",
    "对对象使用切片时，会调用`__getitem__`\n",
    "\n",
    "### 2.4.3 多维切片和省略\n",
    "\n",
    "`[]`可以使用以逗号分开的多个索引或切片\n",
    "\n",
    "`Numpy`就用到了这个特性，二维的`numpy.ndarray`可以使用`a[i,j]`或`a[m:n,k:l]`\n",
    "\n",
    "这种情况下，对象的`__getitem__`和`__setitem__`的参数为元组.\n",
    "\n",
    "**省略(ellipsis)**的书写为三个英语句号，非Unicode码位`U+2026`所表示的半个省略号\n",
    "\n",
    "`Ellipsis`对象是`ellipsis`类的单一实例\n",
    "\n",
    "省略可以当做切片规范的一部分，也可以用在函数的参数清单上。如`f(a,..,z)`和 `a[i:...]`\n",
    "\n",
    "`f(a,...,z)`中省略号的含义是省去中间的参数，仅保留第一个和最后一个参数\n",
    "\n",
    "`a[i:...]`就是`x[i,:,:,:]`的缩写\n",
    "\n",
    "可以给切片赋值"
   ],
   "metadata": {
    "collapsed": false,
    "pycharm": {
     "name": "#%% md\n"
    }
   }
  },
  {
   "cell_type": "code",
   "execution_count": 14,
   "outputs": [
    {
     "data": {
      "text/plain": "[0, 1, 20, 30, 5, 6, 7, 8, 9]"
     },
     "execution_count": 14,
     "metadata": {},
     "output_type": "execute_result"
    }
   ],
   "source": [
    "l = list(range(10))\n",
    "l[2:5] = [20,30]\n",
    "l"
   ],
   "metadata": {
    "collapsed": false,
    "pycharm": {
     "name": "#%%\n"
    }
   }
  },
  {
   "cell_type": "code",
   "execution_count": 15,
   "outputs": [
    {
     "data": {
      "text/plain": "[0, 1, 20, 30, 5, 8, 9]"
     },
     "execution_count": 15,
     "metadata": {},
     "output_type": "execute_result"
    }
   ],
   "source": [
    "del l[5:7]\n",
    "l"
   ],
   "metadata": {
    "collapsed": false,
    "pycharm": {
     "name": "#%%\n"
    }
   }
  },
  {
   "cell_type": "markdown",
   "source": [
    "## 2.5 对序列使用`+`和`*`\n",
    "\n",
    "序列是支持`+`和`*`操作的，`+`表示拼接序列，`*`表示多份相同的序列拼接\n",
    "\n",
    "`+`和`*`都是产生新的序列，不修改原来的操作对象\n",
    "\n",
    "**注意** 如果序列的对象是其他可变对象的引用的话，上述操作会使序列里元素指向同一个对象，从而易产生错误\n",
    "\n",
    "`[[]]*3`得到的列表所包含的元素都是指向同一个列表，这不是你想要的效果，而应该使用列表推导\n"
   ],
   "metadata": {
    "collapsed": false,
    "pycharm": {
     "name": "#%% md\n"
    }
   }
  },
  {
   "cell_type": "code",
   "execution_count": 16,
   "outputs": [
    {
     "data": {
      "text/plain": "[139740742372808, 139740742372808, 139740742372808]"
     },
     "execution_count": 16,
     "metadata": {},
     "output_type": "execute_result"
    }
   ],
   "source": [
    "my_list = [[]] * 3\n",
    "[id(x) for x in my_list]"
   ],
   "metadata": {
    "collapsed": false,
    "pycharm": {
     "name": "#%%\n"
    }
   }
  },
  {
   "cell_type": "code",
   "execution_count": 17,
   "outputs": [
    {
     "data": {
      "text/plain": "[139740741904904, 139740741394120, 139740741904200]"
     },
     "execution_count": 17,
     "metadata": {},
     "output_type": "execute_result"
    }
   ],
   "source": [
    "my_list = [[] for _ in range(3)]\n",
    "[id(x) for x in my_list]"
   ],
   "metadata": {
    "collapsed": false,
    "pycharm": {
     "name": "#%%\n"
    }
   }
  },
  {
   "cell_type": "markdown",
   "source": [
    "如果一个类实现了`__add__`和`__mul__`方法，其实例也可以使用`+` 和`*`\n",
    "\n",
    "## 2.6 序列的增量赋值\n",
    "\n",
    "增量赋值运算符 `+=` 和 `*=` 的表现取决于它们的第一个操作对象\n",
    "\n",
    "`+=` 背后的特殊方法是 `__iadd__`（用于“就地加法”）。\n",
    "\n",
    "但是如果一个类没有实现这个方法的话， Python 会退一步调用 `__add__`\n",
    "\n",
    "## 2.7 `list.sort`方法和内置函数`sorted`\n",
    "\n",
    "`list.sort`方法会就地排序列表，也就是说不会把原列表复制一份，故返回值是`None`\n",
    "\n",
    ">如果一个函数或者方法对对象进行的是就地改动，那它就应该返回 None，好让调用者知道传入的参数发生了变动，而且并未产生新的对象。\n",
    "\n",
    "`sorted`会新建一个列表作为返回值。\n",
    "\n",
    "这个方法可以接受任何形式的可迭代对象作为参数，甚至包括不可变序列或生成器\n",
    "\n",
    "两个可选的关键字参数\n",
    "\n",
    "*  如果被设定为 True(False default)，序列降序输出\n",
    "\n",
    "* key 一个只有一个参数的函数，这个函数作用每一个元素上，是排序算法依赖的对比关键字\n",
    "\n",
    "## 2.8 用`bisect`来管理已排序的序列\n",
    "\n",
    "`bisect` 模块包含两个主要函数， `bisect` 和 `insort`，都利用二分查找算法来在有序序列中查找或插入元素\n",
    "\n",
    "### 2.8.1 用`bisect`来搜索\n",
    "\n",
    "`bisect(haystack, needle)` 在 `haystack`（干草垛）里搜索`needle`（针）的位置\n",
    "\n",
    "`bisect` 函数其实是 `bisect_right` 函数的别名，后者还有个姊妹函数叫 `bisect_left`\n",
    "\n",
    "### 2.8.2　用`bisect.insort`插入新元素\n",
    "\n",
    "`insort(seq, item)` 把变量 `item` 插入到序列 `seq` 中，并能保持 `seq` 的升序顺序\n",
    "\n",
    "它也有个变体叫 `insort_left`，这个变体在背后用的是`bisect_left`\n",
    "\n",
    "## 2.9　当列表不是首选时\n",
    "\n",
    "### 2.9.1　数组\n",
    "\n",
    "如果需要一个只包含数字的列表，那么 `array.array` 比 `list` 更高效\n",
    "\n",
    "数组支持所有跟可变序列有关的操作，包括 `.pop`、 `.insert` 和`.extend`。\n",
    "\n",
    "另外，数组还提供从文件读取和存入文件的更快的方法，如`.frombytes` 和 `.tofile`\n",
    "\n",
    "创建数组需要一个类型码，这个类型码用来表示在底层的 C 语言应该存放怎样的数据类型。\n",
    "比如 b 类型码代表的是有符号的字符（signed char）\n",
    "\n",
    "\n",
    "\n"
   ],
   "metadata": {
    "collapsed": false,
    "pycharm": {
     "name": "#%% md\n"
    }
   }
  },
  {
   "cell_type": "code",
   "execution_count": 18,
   "outputs": [
    {
     "data": {
      "text/plain": "0.501831732416605"
     },
     "execution_count": 18,
     "metadata": {},
     "output_type": "execute_result"
    }
   ],
   "source": [
    "from array import  array\n",
    "from random import random\n",
    "\n",
    "floats = array('d', (random() for i in range(10 ** 7)))\n",
    "floats[-1]"
   ],
   "metadata": {
    "collapsed": false,
    "pycharm": {
     "name": "#%%\n"
    }
   }
  },
  {
   "cell_type": "markdown",
   "source": [
    "从 Python 3.4 开始，数组类型不再支持诸如 list.sort() 这种就地排序方法。\n",
    "要给数组排序的话，得用 sorted 函数新建一个数组：\n",
    "\n",
    "`a = array.array(a.typecode, sorted(a))`\n",
    "\n",
    "\n",
    "### 2.9.2 内存视图\n",
    "\n",
    "`memoryview` 是一个内置类，它能让用户在不复制内容的情况下操作同一个数组的不同切片\n",
    "\n",
    "`memoryview.cast` 的概念跟数组模块类似，能用不同的方式读写同一块内存数据，而且内容字节不会随意移动。\n",
    "\n",
    "`memoryview.cast` 会把同一块内存里的内容打包成一个全新的 `memoryview` 对象给你\n",
    "\n",
    "### 2.9.3 NumPy和SciPy\n",
    "\n",
    "`NumPy` 实现了多维同质数组（homogeneous array）和矩阵，这些数据结构不但能处理数字，还能存放其他由用户定义的记录\n",
    "\n",
    "`SciPy` 是基于 `NumPy` 的另一个库，它提供了很多跟科学计算有关的算法，专为线性代数、数值积分和统计学而设计。\n",
    "\n",
    "对 `numpy.ndarray` 的行和列进行基本操作"
   ],
   "metadata": {
    "collapsed": false,
    "pycharm": {
     "name": "#%% md\n"
    }
   }
  },
  {
   "cell_type": "code",
   "execution_count": 19,
   "outputs": [
    {
     "data": {
      "text/plain": "array([ 0,  1,  2,  3,  4,  5,  6,  7,  8,  9, 10, 11])"
     },
     "execution_count": 19,
     "metadata": {},
     "output_type": "execute_result"
    }
   ],
   "source": [
    "import numpy\n",
    "a = numpy.arange(12)\n",
    "a"
   ],
   "metadata": {
    "collapsed": false,
    "pycharm": {
     "name": "#%%\n"
    }
   }
  },
  {
   "cell_type": "code",
   "execution_count": 20,
   "outputs": [
    {
     "data": {
      "text/plain": "numpy.ndarray"
     },
     "execution_count": 20,
     "metadata": {},
     "output_type": "execute_result"
    }
   ],
   "source": [
    "type(a)"
   ],
   "metadata": {
    "collapsed": false,
    "pycharm": {
     "name": "#%%\n"
    }
   }
  },
  {
   "cell_type": "code",
   "execution_count": 21,
   "outputs": [
    {
     "data": {
      "text/plain": "(12,)"
     },
     "execution_count": 21,
     "metadata": {},
     "output_type": "execute_result"
    }
   ],
   "source": [
    "a.shape"
   ],
   "metadata": {
    "collapsed": false,
    "pycharm": {
     "name": "#%%\n"
    }
   }
  },
  {
   "cell_type": "code",
   "execution_count": 22,
   "outputs": [
    {
     "data": {
      "text/plain": "array([[ 0,  1,  2,  3],\n       [ 4,  5,  6,  7],\n       [ 8,  9, 10, 11]])"
     },
     "execution_count": 22,
     "metadata": {},
     "output_type": "execute_result"
    }
   ],
   "source": [
    "a.shape = 3, -1\n",
    "a"
   ],
   "metadata": {
    "collapsed": false,
    "pycharm": {
     "name": "#%%\n"
    }
   }
  },
  {
   "cell_type": "code",
   "execution_count": 23,
   "outputs": [
    {
     "data": {
      "text/plain": "array([ 8,  9, 10, 11])"
     },
     "execution_count": 23,
     "metadata": {},
     "output_type": "execute_result"
    }
   ],
   "source": [
    "a[2]"
   ],
   "metadata": {
    "collapsed": false,
    "pycharm": {
     "name": "#%%\n"
    }
   }
  },
  {
   "cell_type": "code",
   "execution_count": 24,
   "outputs": [
    {
     "data": {
      "text/plain": "9"
     },
     "execution_count": 24,
     "metadata": {},
     "output_type": "execute_result"
    }
   ],
   "source": [
    "a[2,1]"
   ],
   "metadata": {
    "collapsed": false,
    "pycharm": {
     "name": "#%%\n"
    }
   }
  },
  {
   "cell_type": "code",
   "execution_count": 25,
   "outputs": [
    {
     "data": {
      "text/plain": "array([1, 5, 9])"
     },
     "execution_count": 25,
     "metadata": {},
     "output_type": "execute_result"
    }
   ],
   "source": [
    "a[:,1]"
   ],
   "metadata": {
    "collapsed": false,
    "pycharm": {
     "name": "#%%\n"
    }
   }
  },
  {
   "cell_type": "code",
   "execution_count": 26,
   "outputs": [
    {
     "data": {
      "text/plain": "array([[ 0,  4,  8],\n       [ 1,  5,  9],\n       [ 2,  6, 10],\n       [ 3,  7, 11]])"
     },
     "execution_count": 26,
     "metadata": {},
     "output_type": "execute_result"
    }
   ],
   "source": [
    "a.transpose()"
   ],
   "metadata": {
    "collapsed": false,
    "pycharm": {
     "name": "#%%\n"
    }
   }
  },
  {
   "cell_type": "markdown",
   "source": [
    "### 2.9.4　双向队列和其他形式的队列\n",
    "\n",
    "利用 `.append` 和 `.pop` 方法，我们可以把列表当作栈或者队列来用\n",
    "\n",
    "`collections.deque` 类（双向队列）是一个**线程安全**、可以快速从两端添加或者删除元素的数据类型。\n",
    "\n",
    "使用双向队列"
   ],
   "metadata": {
    "collapsed": false,
    "pycharm": {
     "name": "#%% md\n"
    }
   }
  },
  {
   "cell_type": "code",
   "execution_count": 27,
   "outputs": [
    {
     "data": {
      "text/plain": "deque([0, 1, 2, 3, 4, 5, 6, 7, 8, 9])"
     },
     "execution_count": 27,
     "metadata": {},
     "output_type": "execute_result"
    }
   ],
   "source": [
    "from collections import deque\n",
    "dq = deque(range(10), maxlen=10)\n",
    "dq"
   ],
   "metadata": {
    "collapsed": false,
    "pycharm": {
     "name": "#%%\n"
    }
   }
  },
  {
   "cell_type": "code",
   "execution_count": 28,
   "outputs": [
    {
     "data": {
      "text/plain": "deque([4, 5, 6, 7, 8, 9, 0, 1, 2, 3])"
     },
     "execution_count": 28,
     "metadata": {},
     "output_type": "execute_result"
    }
   ],
   "source": [
    "#队列的旋转操作接受一个参数 n\n",
    "# 当 n > 0 时，队列的最右边的 n个元素会被移动到队列的左边。\n",
    "# 当 n < 0 时，最左边的 n 个元素会被移动到右边。\n",
    "dq.rotate(-4)\n",
    "dq"
   ],
   "metadata": {
    "collapsed": false,
    "pycharm": {
     "name": "#%%\n"
    }
   }
  },
  {
   "cell_type": "code",
   "execution_count": 29,
   "outputs": [
    {
     "data": {
      "text/plain": "deque([-1, 4, 5, 6, 7, 8, 9, 0, 1, 2])"
     },
     "execution_count": 29,
     "metadata": {},
     "output_type": "execute_result"
    }
   ],
   "source": [
    "dq.appendleft(-1)\n",
    "dq\n"
   ],
   "metadata": {
    "collapsed": false,
    "pycharm": {
     "name": "#%%\n"
    }
   }
  },
  {
   "cell_type": "code",
   "execution_count": 30,
   "outputs": [
    {
     "data": {
      "text/plain": "deque([6, 7, 8, 9, 0, 1, 2, 11, 22, 33])"
     },
     "execution_count": 30,
     "metadata": {},
     "output_type": "execute_result"
    }
   ],
   "source": [
    "# 在尾部添加 3 个元素的操作会挤掉头部3个元素\n",
    "\n",
    "dq.extend([11, 22, 33])\n",
    "dq"
   ],
   "metadata": {
    "collapsed": false,
    "pycharm": {
     "name": "#%%\n"
    }
   }
  },
  {
   "cell_type": "markdown",
   "source": [
    "其他的 Python 标准库也有对队列的实现\n",
    "\n",
    "* `queue`\n",
    "\n",
    "提供了同步（线程安全）类 `Queue`、 `LifoQueue` 和`PriorityQueue`，不同的线程可以利用这些数据类型来交换信息。\n",
    "这三个类的构造方法都有一个可选参数 `maxsize`，它接收正整数作为输\n",
    "入值，用来限定队列的大小。\n",
    "但是在满员的时候，这些类不会扔掉旧的元素来腾出位置。\n",
    "相反，如果队列满了，它就会被锁住，直到另外的线程移除了某个元素而腾出了位置。\n",
    "这一特性让这些类很适合用来控制活跃线程的数量\n",
    "\n",
    "* `multiprocessing`\n",
    "\n",
    "这个包实现了自己的 `Queue`，它跟 `queue.Queue` 类似，是设计给进程间通信用的。\n",
    "同时还有一个专门的`multiprocessing.JoinableQueue` 类型，可以让任务管理变得更方便。\n",
    "\n",
    "* `asyncio`\n",
    "\n",
    "Python 3.4 新提供的包，里面有`Queue`、 `LifoQueue`、 `PriorityQueue` 和 `JoinableQueue`\n",
    "这些类受到 `queue` 和 `multiprocessing` 模块的影响，但是为异步编程里的任务管理提供了专门的便利。\n",
    "\n",
    "* `heapq`\n",
    "\n",
    "`heapq` 没有队列类，而是提供了`heappush` 和 `heappop` 方法，让用户可以把可变序列当作堆队列或者\n",
    "优先队列来使用。\n"
   ],
   "metadata": {
    "collapsed": false,
    "pycharm": {
     "name": "#%% md\n"
    }
   }
  }
 ],
 "metadata": {
  "kernelspec": {
   "name": "pycharm-6e97b4a8",
   "language": "python",
   "display_name": "PyCharm (notebook)"
  },
  "language_info": {
   "codemirror_mode": {
    "name": "ipython",
    "version": 2
   },
   "file_extension": ".py",
   "mimetype": "text/x-python",
   "name": "python",
   "nbconvert_exporter": "python",
   "pygments_lexer": "ipython2",
   "version": "2.7.6"
  }
 },
 "nbformat": 4,
 "nbformat_minor": 0
}