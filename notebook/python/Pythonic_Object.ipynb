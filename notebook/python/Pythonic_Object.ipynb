{
 "cells": [
  {
   "cell_type": "markdown",
   "metadata": {
    "collapsed": true,
    "pycharm": {
     "name": "#%% md\n"
    }
   },
   "source": [
    "# 符合Python风格的对象\n",
    "\n",
    "## 对象表示形式\n",
    "\n",
    "Python 对象的字符串表示形式\n",
    "\n",
    "- `repr()` 以便于开发者理解的方式返回对象的字符串表示形式\n",
    "- `str()` 以便于用户理解的方式返回对象的字符串表示形式\n",
    "- `bytes()` 函数调用`__bytes__`获取对象的字节序列表示形式\n",
    "- `__format__` 方法会被内置的 `format()` 函数和 `str.format()` 方法调用\n",
    "\n",
    "\n",
    "`__repr__` 和 `__str__` 特殊方法，为`repr()` 和 `str()` 提供支持\n",
    "\n",
    "## 再谈向量类\n",
    "\n",
    "实现Vector2d"
   ]
  },
  {
   "cell_type": "code",
   "execution_count": null,
   "outputs": [],
   "source": [
    "from array import array\n",
    "import math\n",
    "\n",
    "class Vector2d:\n",
    "    typecode = 'd'\n",
    "\n",
    "    def __init__(self, x, y):\n",
    "        self.x = float(x)\n",
    "        self.y = float(y)\n",
    "\n",
    "    def __iter__(self):\n",
    "        \"\"\"\n",
    "        使对象可迭代，这样才能够拆包\n",
    "        \"\"\"\n",
    "        return (i for i in (self.x, self.y))\n",
    "\n",
    "    def __repr__(self):\n",
    "        class_name = type(self).__name__\n",
    "        return '{}({!r}, {!r})'.format(class_name, *self)\n",
    "\n",
    "    def __str__(self):\n",
    "        return str(tuple(self))\n",
    "\n",
    "    def __bytes__(self):\n",
    "        return bytes([ord(self.typecode)]) + bytes(array(self.typecode, self))\n",
    "\n",
    "    def __eq__(self, other):\n",
    "        return tuple(self) == tuple(other)\n",
    "\n",
    "    def __abs__(self):\n",
    "        return math.hypot(self.x, self.y)\n",
    "\n",
    "    def __bool__(self):\n",
    "        return bool(abs(self))"
   ],
   "metadata": {
    "collapsed": false,
    "pycharm": {
     "name": "#%%\n"
    }
   }
  },
  {
   "cell_type": "markdown",
   "source": [
    "## `classmethod`与`staticmethod`\n",
    "\n",
    "使用`@staticmethod`或`@classmethod`装饰一个类方法，就可以不需要实例化，直接类名.方法名()来调用\n",
    "\n",
    "二者区别在于，\n",
    "- `@staticmethod`不需要表示自身对象的self和自身类的cls参数，就跟使用函数一样\n",
    "- `@classmethod`也不需要self参数，但第一个参数需要是表示自身类的cls参数\n",
    "\n",
    "如果在`@staticmethod`中要调用到这个类的一些属性方法，只能直接类名.属性名或类名.方法名。\n",
    "而`@classmethod`因为持有cls参数，可以来调用类的属性，类的方法，实例化对象等，避免硬编码。"
   ],
   "metadata": {
    "collapsed": false,
    "pycharm": {
     "name": "#%% md\n"
    }
   }
  },
  {
   "cell_type": "code",
   "execution_count": 1,
   "outputs": [
    {
     "name": "stdout",
     "output_type": "stream",
     "text": [
      "static_foo\n",
      "1\n",
      "class_foo\n",
      "1\n",
      "foo\n"
     ]
    }
   ],
   "source": [
    "class A(object):\n",
    "    bar = 1\n",
    "    def foo(self):\n",
    "        print('foo')\n",
    "\n",
    "    @staticmethod\n",
    "    def static_foo():\n",
    "        print('static_foo')\n",
    "        print(A.bar)\n",
    "\n",
    "    @classmethod\n",
    "    def class_foo(cls):\n",
    "        print('class_foo')\n",
    "        print(cls.bar)\n",
    "        cls().foo()\n",
    "###执行\n",
    "A.static_foo()\n",
    "A.class_foo()"
   ],
   "metadata": {
    "collapsed": false,
    "pycharm": {
     "name": "#%%\n"
    }
   }
  },
  {
   "cell_type": "markdown",
   "source": [
    "## 格式化显示\n",
    "\n",
    "内置的 `format()` 函数和 `str.format()` 方法把各个类型的格式化方式委托给相应的 `.__format__(format_spec)` 方法。\n",
    "\n",
    " format_spec 是格式说明符\n",
    " - `format(my_obj, format_spec)`的第二个参数\n",
    " - `str.format()`方法的格式化字符串，`{}`里代换字段中冒号后面的部分\n",
    "\n",
    "各个类可以自行决定如何解释`format_spec` 参数，类没有定义 `__format__` 方法，\n",
    "则会使用`__str__`方法，但不能使用格式说明符"
   ],
   "metadata": {
    "collapsed": false,
    "pycharm": {
     "name": "#%% md\n"
    }
   }
  },
  {
   "cell_type": "code",
   "execution_count": 3,
   "outputs": [],
   "source": [
    "# 为Vector2d自定义的类型扩展格式规范\n",
    "def __format__(self, fmt_spec=''):\n",
    "    components = (format(c, fmt_spec) for c in self)\n",
    "    return '({},{})'.format(*components)"
   ],
   "metadata": {
    "collapsed": false,
    "pycharm": {
     "name": "#%%\n"
    }
   }
  },
  {
   "cell_type": "markdown",
   "source": [
    "## 可散列的`Vector2d`\n",
    "\n",
    "想把对象放入集合中，需要实现`__hash__`和`__eq__`，实例的散列值绝不应该变化\n",
    "\n",
    "`__hash__`应返回一个整数值，且属性相同的对象(`__eq__`实现)的散列值值相同\n",
    "\n",
    "## 私有属性和“受保护的”属性\n",
    "\n",
    "以`__mood` 的形式（两个前导下划线，尾部没有或最多有一个下划线）命名实例属性，\n",
    "Python 会把属性名存入实例的`__dict__` 属性中，而且会在前面加上一个下划线和类名。\n",
    "这个语言特性叫**名称改写**\n",
    "\n",
    "约定使用一个下划线前缀编写“受保护”的属性（如 self._x）\n",
    "\n",
    "## 使用 `__slots__` 类属性节省空间\n",
    "\n",
    "默认情况下， Python 在各个实例中名为 `__dict__` 的字典里存储实例属性。\n",
    "\n",
    "通过`__slots__`类属性，能节省大量内存，方法是让解释器在元组中存储实例属性，而不用字典"
   ],
   "metadata": {
    "collapsed": false,
    "pycharm": {
     "name": "#%% md\n"
    }
   }
  }
 ],
 "metadata": {
  "kernelspec": {
   "name": "pycharm-6e97b4a8",
   "language": "python",
   "display_name": "PyCharm (notebook)"
  },
  "language_info": {
   "codemirror_mode": {
    "name": "ipython",
    "version": 2
   },
   "file_extension": ".py",
   "mimetype": "text/x-python",
   "name": "python",
   "nbconvert_exporter": "python",
   "pygments_lexer": "ipython2",
   "version": "2.7.6"
  }
 },
 "nbformat": 4,
 "nbformat_minor": 0
}