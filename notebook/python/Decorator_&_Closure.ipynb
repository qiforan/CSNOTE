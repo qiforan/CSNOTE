{
 "cells": [
  {
   "cell_type": "markdown",
   "metadata": {
    "collapsed": true,
    "pycharm": {
     "name": "#%% md\n"
    }
   },
   "source": [
    "# 第 7 章　函数装饰器和闭包\n",
    "\n",
    "## 7.1　装饰器基础知识\n",
    "\n",
    "装饰器是可调用的对象，其参数是另一个函数（被装饰的函数）\n",
    "\n",
    "装饰器可能会处理被装饰的函数，然后把它返回，或者将其替换成另一个函数或可调用对象。"
   ]
  },
  {
   "cell_type": "code",
   "execution_count": 18,
   "outputs": [
    {
     "name": "stdout",
     "output_type": "stream",
     "text": [
      "decorate\n",
      "decorator loaded\n",
      "running target()\n",
      "running target()\n"
     ]
    }
   ],
   "source": [
    "# 定义一个装饰器\n",
    "def decorate(fun):\n",
    "    print(\"decorate\")\n",
    "    return fun\n",
    "\n",
    "# 使用装饰器\n",
    "@decorate\n",
    "def target():\n",
    "    print('running target()')\n",
    "\n",
    "print(\"decorator loaded\")\n",
    "target()\n",
    "target()"
   ],
   "metadata": {
    "collapsed": false,
    "pycharm": {
     "name": "#%%\n"
    }
   }
  },
  {
   "cell_type": "code",
   "execution_count": 19,
   "outputs": [
    {
     "name": "stdout",
     "output_type": "stream",
     "text": [
      "decorate\n",
      "decorator loaded\n",
      "running target()\n",
      "running target()\n"
     ]
    }
   ],
   "source": [
    "# 上面代码等价于下面的代码\n",
    "\n",
    "def target():\n",
    "    print('running target()')\n",
    "\n",
    "target = decorate(target)\n",
    "\n",
    "print(\"decorator loaded\")\n",
    "target()\n",
    "target()"
   ],
   "metadata": {
    "collapsed": false,
    "pycharm": {
     "name": "#%%\n"
    }
   }
  },
  {
   "cell_type": "markdown",
   "source": [
    "严格来说，装饰器只是语法糖。\n",
    "\n",
    "## 7.2 Python何时执行装饰器\n",
    "\n",
    "装饰器的一个关键特性是，它们在被装饰的函数定义之后立即运行,且只运行一次。"
   ],
   "metadata": {
    "collapsed": false,
    "pycharm": {
     "name": "#%% md\n"
    }
   }
  },
  {
   "cell_type": "markdown",
   "source": [
    "## 7.3　使用装饰器改进“策略”模式\n",
    "\n",
    "TODO\n",
    "\n",
    "## 7.4　变量作用域规则\n",
    "\n",
    "Python假定在函数定义体中赋值的变量是局部变量\n",
    "\n",
    "在函数中直接给某个全局变量赋值会产生错误,\n",
    "`UnboundLocalError: local variable 'a' referenced before assignment`\n",
    "因为解释器在函数定义的时候把那些被赋值的变量当做局部变量，\n",
    "如果非要这么做，要事先使用`global`声明"
   ],
   "metadata": {
    "collapsed": false,
    "pycharm": {
     "name": "#%% md\n"
    }
   }
  },
  {
   "cell_type": "markdown",
   "source": [
    "## 7.5 闭包\n",
    "\n",
    "闭包指延伸了作用域的函数，其中包含函数定义体中引用、\n",
    "但是不在定义体中定义的**非全局变量**。函数是不是匿名的没有关系，\n",
    "关键是它能访问定义体之外定义的**非全局变量**。"
   ],
   "metadata": {
    "collapsed": false,
    "pycharm": {
     "name": "#%% md\n"
    }
   }
  },
  {
   "cell_type": "code",
   "execution_count": 20,
   "outputs": [
    {
     "data": {
      "text/plain": "(<cell at 0x7fdbd2aec7f8: list object at 0x7fdbd2580808>,)"
     },
     "execution_count": 20,
     "metadata": {},
     "output_type": "execute_result"
    }
   ],
   "source": [
    "# 计算移动平均值\n",
    "\n",
    "def make_average():\n",
    "    series = []\n",
    "\n",
    "    def averager(new_value):\n",
    "        series.append(new_value)\n",
    "        total = sum(series)\n",
    "        return total/len(series)\n",
    "    return averager\n",
    "\n",
    "avg = make_average()\n",
    "\n",
    "avg.__closure__"
   ],
   "metadata": {
    "collapsed": false,
    "pycharm": {
     "name": "#%%\n"
    }
   }
  },
  {
   "cell_type": "code",
   "source": [
    "avg.__code__.co_freevars"
   ],
   "metadata": {
    "collapsed": false,
    "pycharm": {
     "name": "#%%\n"
    }
   },
   "execution_count": 21,
   "outputs": [
    {
     "data": {
      "text/plain": "('series',)"
     },
     "execution_count": 21,
     "metadata": {},
     "output_type": "execute_result"
    }
   ]
  },
  {
   "cell_type": "markdown",
   "source": [
    "调用 `make_averager` 时，返回一个 `averager` 函数对象。\n",
    "每次调用`averager` 时，它会把参数添加到系列值中，然后计算当前平均值\n",
    "\n",
    "在 `averager` 函数中， `series` 是自由变量（free variable）。这是一\n",
    "个技术术语，指未在本地作用域中绑定的变量。\n",
    "\n",
    "\n",
    "## 7.6 nonlocal声明\n",
    "\n",
    "使用闭包时，自由变量只能是可变类型的数据，不能是数字、字符串、元组等不可变类型，\n",
    "否则只能读取不能修改，因为会遇到 7.4 中所说的问题,会隐式创建局部变量。\n",
    "\n",
    "Python 3 引入了 nonlocal 声明。它的作用是主动把变量标记为自由变量,从而解决上述困扰。\n",
    "\n",
    "## 7.7 实现一个简单的装饰器\n",
    "\n",
    "一个简单的装饰器，输出函数的运行时间\n"
   ],
   "metadata": {
    "collapsed": false,
    "pycharm": {
     "name": "#%% md\n"
    }
   }
  },
  {
   "cell_type": "code",
   "execution_count": 22,
   "outputs": [],
   "source": [
    "import time\n",
    "\n",
    "def clock(func):\n",
    "    def clocked(*args):\n",
    "        t0 = time.perf_counter()\n",
    "        result = func(*args)\n",
    "        elapsed = time.perf_counter() - t0\n",
    "        name = func.__name__\n",
    "        arg_str = ', '.join(repr(arg) for arg in args)\n",
    "        print('[%0.8fs] %s(%s) -> %r' %(elapsed, name, arg_str, result))\n",
    "        return result\n",
    "\n",
    "    return clocked"
   ],
   "metadata": {
    "collapsed": false,
    "pycharm": {
     "name": "#%%\n"
    }
   }
  },
  {
   "cell_type": "code",
   "execution_count": 23,
   "outputs": [
    {
     "name": "stdout",
     "output_type": "stream",
     "text": [
      "[0.12315090s] snooze(0.123) -> None\n"
     ]
    }
   ],
   "source": [
    "@clock\n",
    "def snooze(seconds):\n",
    "    time.sleep(seconds)\n",
    "\n",
    "snooze(.123)"
   ],
   "metadata": {
    "collapsed": false,
    "pycharm": {
     "name": "#%%\n"
    }
   }
  },
  {
   "cell_type": "code",
   "execution_count": 24,
   "outputs": [
    {
     "name": "stdout",
     "output_type": "stream",
     "text": [
      "[0.00000048s] factorial(1) -> 1\n",
      "[0.00006903s] factorial(2) -> 2\n",
      "[0.00015555s] factorial(3) -> 6\n",
      "[0.00023894s] factorial(4) -> 24\n",
      "[0.00032455s] factorial(5) -> 120\n",
      "[0.00039273s] factorial(6) -> 720\n"
     ]
    },
    {
     "data": {
      "text/plain": "720"
     },
     "execution_count": 24,
     "metadata": {},
     "output_type": "execute_result"
    }
   ],
   "source": [
    "@clock\n",
    "def factorial(n):\n",
    "    return 1 if n < 2 else n * factorial(n-1)\n",
    "\n",
    "factorial(6)"
   ],
   "metadata": {
    "collapsed": false,
    "pycharm": {
     "name": "#%%\n"
    }
   }
  },
  {
   "cell_type": "code",
   "execution_count": 25,
   "outputs": [
    {
     "name": "stdout",
     "output_type": "stream",
     "text": [
      "[0.00000552s] factorial(10) -> 3628800\n"
     ]
    },
    {
     "data": {
      "text/plain": "3628800"
     },
     "execution_count": 25,
     "metadata": {},
     "output_type": "execute_result"
    }
   ],
   "source": [
    "# 若只想打印最后的运行时间\n",
    "\n",
    "@clock\n",
    "def factorial(n):\n",
    "    def _f(n):\n",
    "        return 1 if n < 2 else n * _f(n-1)\n",
    "    return _f(n)\n",
    "\n",
    "factorial(10)"
   ],
   "metadata": {
    "collapsed": false,
    "pycharm": {
     "name": "#%%\n"
    }
   }
  },
  {
   "cell_type": "markdown",
   "source": [
    "这是装饰器的典型行为：把被装饰的函数替换成新函数，二者接受相同的参数，\n",
    "而且（通常）返回被装饰的函数本该返回的值，同时还会做些额外操作。\n",
    "\n",
    "`clock`装饰器有几个缺点：不支持关键字参数，而且遮盖了被装饰函数的 `__name__` 和 `__doc__` 属性"
   ],
   "metadata": {
    "collapsed": false,
    "pycharm": {
     "name": "#%% md\n"
    }
   }
  },
  {
   "cell_type": "markdown",
   "source": [
    "## 7.8　标准库中的装饰器\n",
    "\n",
    "Python 内置了三个用于装饰方法的函数： `property`、 `classmethod`和 `staticmethod`\n",
    "\n",
    "另一个常见的装饰器是 `functools.wraps`，它的作用是协助构建行为良好的装饰器。\n",
    "\n",
    "### 7.8.1　使用`functools.lru_cache`做备忘\n",
    "\n",
    "`functools.lru_cache` 是非常实用的装饰器，它实现了备忘（memoization）功能。\n",
    "\n",
    "对于斐波纳契数的计算，简单递归非常耗时"
   ],
   "metadata": {
    "collapsed": false,
    "pycharm": {
     "name": "#%% md\n"
    }
   }
  },
  {
   "cell_type": "code",
   "execution_count": 26,
   "outputs": [
    {
     "name": "stdout",
     "output_type": "stream",
     "text": [
      "[0.22742898s] fibonacci(30) -> 832040\n"
     ]
    },
    {
     "data": {
      "text/plain": "832040"
     },
     "execution_count": 26,
     "metadata": {},
     "output_type": "execute_result"
    }
   ],
   "source": [
    "@clock\n",
    "def fibonacci(n):\n",
    "    def _f(n):\n",
    "        return n if n < 2 else _f(n-2) + _f(n-1)\n",
    "    return _f(n)\n",
    "fibonacci(30)"
   ],
   "metadata": {
    "collapsed": false,
    "pycharm": {
     "name": "#%%\n"
    }
   }
  },
  {
   "cell_type": "code",
   "execution_count": 27,
   "outputs": [
    {
     "name": "stdout",
     "output_type": "stream",
     "text": [
      "[0.00003043s] fibonacci(50) -> 12586269025\n"
     ]
    },
    {
     "data": {
      "text/plain": "12586269025"
     },
     "execution_count": 27,
     "metadata": {},
     "output_type": "execute_result"
    }
   ],
   "source": [
    "import functools\n",
    "@clock\n",
    "def fibonacci(n):\n",
    "    @functools.lru_cache()\n",
    "    def _f(n):\n",
    "        return n if n < 2 else _f(n-2) + _f(n-1)\n",
    "    return _f(n)\n",
    "fibonacci(50)"
   ],
   "metadata": {
    "collapsed": false,
    "pycharm": {
     "name": "#%%\n"
    }
   }
  },
  {
   "cell_type": "markdown",
   "source": [
    "由此可见，`lru_cache`可以优化递归算法\n",
    "\n",
    "### 7.8.2 单分派泛函数\n",
    "\n",
    "TODO\n",
    "\n",
    "## 7.9　叠放装饰器\n",
    "\n",
    "把 `@d1` 和 `@d2` 两个装饰器按顺序应用到 `f` 函数上，作用相当于 `f = d1(d2(f))`\n",
    "\n",
    "\n",
    "## 7.10　参数化装饰器\n",
    "\n",
    "怎么让装饰器接受其他参数呢？答案是：\n",
    "创建一个装饰器工厂函数，把参数传给它，返回一个装饰器，然后再把它应用到要装饰的函数上。\n",
    "\n",
    "\n"
   ],
   "metadata": {
    "collapsed": false,
    "pycharm": {
     "name": "#%% md\n"
    }
   }
  },
  {
   "cell_type": "code",
   "execution_count": 28,
   "outputs": [
    {
     "name": "stdout",
     "output_type": "stream",
     "text": [
      "running register(<function f1 at 0x7fdbd228ca60>)\n",
      "running main()\n",
      "registry ->  [<function f1 at 0x7fdbd228ca60>]\n",
      "running f1()\n"
     ]
    }
   ],
   "source": [
    "registry = []\n",
    "\n",
    "def register(func):\n",
    "    print('running register(%s)' % func)\n",
    "    registry.append(func)\n",
    "    return func\n",
    "\n",
    "@register\n",
    "def f1():\n",
    "    print('running f1()')\n",
    "\n",
    "print('running main()')\n",
    "print('registry -> ', registry)\n",
    "f1()"
   ],
   "metadata": {
    "collapsed": false,
    "pycharm": {
     "name": "#%%\n"
    }
   }
  },
  {
   "cell_type": "markdown",
   "source": [
    "### 7.10.1　一个参数化的注册装饰器\n",
    "\n",
    "为了便于启用或禁用 `register` 执行的函数注册功能，我们为它提供\n",
    "一个可选的 `active` 参数，设为 False 时，不注册被装饰的函数。\n"
   ],
   "metadata": {
    "collapsed": false,
    "pycharm": {
     "name": "#%% md\n"
    }
   }
  },
  {
   "cell_type": "code",
   "execution_count": 29,
   "outputs": [
    {
     "name": "stdout",
     "output_type": "stream",
     "text": [
      "running register(active=False)->decorate(<function f1 at 0x7fdbd228cae8>)\n",
      "running register(active=True)->decorate(<function f2 at 0x7fdbd228c488>)\n"
     ]
    }
   ],
   "source": [
    "registry = set()\n",
    "\n",
    "def register(active=True):\n",
    "    def decorate(func):\n",
    "        print('running register(active=%s)->decorate(%s)' % (active, func))\n",
    "        if active:\n",
    "            registry.add(func)\n",
    "        else:\n",
    "            registry.discard(func)\n",
    "\n",
    "    return decorate\n",
    "\n",
    "@register(active=False)\n",
    "def f1():\n",
    "    print('running f1()')\n",
    "\n",
    "@register()\n",
    "def f2():\n",
    "    print('running f2()')\n",
    "\n",
    "def f3():\n",
    "    print('running f3()')"
   ],
   "metadata": {
    "collapsed": false,
    "pycharm": {
     "name": "#%%\n"
    }
   }
  },
  {
   "cell_type": "markdown",
   "source": [
    "这里的关键是， `register()` 要返回 `decorate`，然后把它应用到装饰的函数上。\n",
    "\n",
    "### 7.10.2　参数化clock装饰器\n",
    "\n",
    "`clock` 装饰器添加一个功能：让用户传入一个格式字符串，控制被装饰函数的输出"
   ],
   "metadata": {
    "collapsed": false,
    "pycharm": {
     "name": "#%% md\n"
    }
   }
  },
  {
   "cell_type": "code",
   "execution_count": 30,
   "outputs": [
    {
     "name": "stdout",
     "output_type": "stream",
     "text": [
      "[0.12316489s] snooze(0.123) -> None\n",
      "[0.12316895s] snooze(0.123) -> None\n",
      "[0.12314034s] snooze(0.123) -> None\n"
     ]
    }
   ],
   "source": [
    "import time\n",
    "\n",
    "DEFAULT_FMT = '[{elapsed:0.8f}s] {name}({args}) -> {result}'\n",
    "\n",
    "def clock(fmt=DEFAULT_FMT):\n",
    "    # decorate才是装饰器\n",
    "    def decorate(func):\n",
    "        # 装饰器返回的函数\n",
    "        def clocked(*_args):\n",
    "            t0 = time.time()\n",
    "            # 被装饰的函数在这里执行\n",
    "            _result = func(*_args)\n",
    "            elapsed = time.time() - t0\n",
    "            name = func.__name__\n",
    "            args = ','.join(repr(arg) for arg in _args)\n",
    "            result = repr(_result)\n",
    "            print(fmt.format(**locals()))\n",
    "            return _result\n",
    "        return clocked\n",
    "    return decorate\n",
    "\n",
    "@clock()\n",
    "def snooze(seconds):\n",
    "    time.sleep(seconds)\n",
    "\n",
    "for i in range(3):\n",
    "    snooze(.123)"
   ],
   "metadata": {
    "collapsed": false,
    "pycharm": {
     "name": "#%%\n"
    }
   }
  }
 ],
 "metadata": {
  "kernelspec": {
   "name": "pycharm-6e97b4a8",
   "language": "python",
   "display_name": "PyCharm (notebook)"
  },
  "language_info": {
   "codemirror_mode": {
    "name": "ipython",
    "version": 2
   },
   "file_extension": ".py",
   "mimetype": "text/x-python",
   "name": "python",
   "nbconvert_exporter": "python",
   "pygments_lexer": "ipython2",
   "version": "2.7.6"
  }
 },
 "nbformat": 4,
 "nbformat_minor": 0
}