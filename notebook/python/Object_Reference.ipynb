{
 "cells": [
  {
   "cell_type": "markdown",
   "metadata": {
    "collapsed": true,
    "pycharm": {
     "name": "#%% md\n"
    }
   },
   "source": [
    "# 对象引用、可变性和垃圾回收\n",
    "\n",
    "本章讨论对象标识、值和别名等概念，揭露元组的一个神奇特性：元组是不可变的，但是其中的值可以改变，引申\n",
    "到浅复制和深复制，最后一节讨论垃圾回收、`del`命令。\n",
    "\n",
    "## 变量不是盒子\n",
    "\n",
    "Python 变量类似于 Java 中的引用式变量，把它们理解为附加在对象上的标注"
   ]
  },
  {
   "cell_type": "code",
   "execution_count": 1,
   "outputs": [
    {
     "data": {
      "text/plain": "[1, 2, 3, 4]"
     },
     "execution_count": 1,
     "metadata": {},
     "output_type": "execute_result"
    }
   ],
   "source": [
    "# 变量a与b引用同一个变量\n",
    "a = [1, 2, 3]\n",
    "b = a\n",
    "a.append(4)\n",
    "b"
   ],
   "metadata": {
    "collapsed": false,
    "pycharm": {
     "name": "#%%\n"
    }
   }
  },
  {
   "cell_type": "markdown",
   "source": [
    "对引用式变量来说，说把变量分配给对象更合理，反过来说就有问题。\n",
    "\n",
    "## 标识、相等性和别名\n",
    "\n",
    "- 每个变量都有标识、类型和值。\n",
    "- 对象一旦创建，它的标识绝不会变；你可以把标识理解为对象在内存中的地址。\n",
    "- `is` 运算符比较两个对象的标识； `id()` 函数返回对象标识的整数表示。\n",
    "\n",
    "对象 ID 的真正意义在不同的实现中有所不同。\n",
    "在 CPython 中， id() 返回对象的内存地址，但是在其他 Python 解释器中可能是别的值。\n",
    "关键是， ID 一定是唯一的数值标注，而且在对象的生命周期中绝不会变。\n",
    "\n",
    "标识最常使用 is 运算符检查，而不是直接比较 ID。\n",
    "\n",
    "相同不可变对象的`id`也未必相同，这取决语言实现的[细节](https://www.zhihu.com/question/25050656)\n",
    "\n",
    "### 在==和is之间选择\n",
    "\n",
    "`==` 运算符比较两个对象的值（对象中保存的数据），而 `is` 比较对象的标识。\n",
    "\n",
    "在变量和单例值之间比较时，应该使用 `is`\n",
    "```python3\n",
    "# 检查变量绑定的值是不是 None\n",
    "x is None\n",
    "# 否定\n",
    "x is not None\n",
    "```\n",
    "\n",
    "- `is` 运算符速度快, 不能重载，不用寻找并调用特殊方法，而是直接比较两个整数 ID\n",
    "- `==` 是语法糖，等同于`__eq__`。 object 的 `__eq__`方法比较两个对象的ID，继承的时候可能被覆盖"
   ],
   "metadata": {
    "collapsed": false,
    "pycharm": {
     "name": "#%% md\n"
    }
   }
  },
  {
   "cell_type": "markdown",
   "source": [
    "### 元组的相对不可变性\n",
    "\n",
    "元组与多数 Python 集合（列表、字典、集，等等）一样，保存的是对象的引用。\n",
    "如果引用的元素是可变的，即便元组本身不可变，元素依然可变。\n",
    "\n",
    ">元组的值会随着引用的可变对象的变化而变。元组中不\n",
    "可变的是元素的标识。\n",
    "\n",
    "## 默认浅复制"
   ],
   "metadata": {
    "collapsed": false,
    "pycharm": {
     "name": "#%% md\n"
    }
   }
  },
  {
   "cell_type": "code",
   "execution_count": 2,
   "outputs": [
    {
     "data": {
      "text/plain": "[1, [2, 3], (4, 5, 6)]"
     },
     "execution_count": 2,
     "metadata": {},
     "output_type": "execute_result"
    }
   ],
   "source": [
    "l1 = [1, [2, 3], (4,5,6)]\n",
    "l2 = list(l1)\n",
    "l2"
   ],
   "metadata": {
    "collapsed": false,
    "pycharm": {
     "name": "#%%\n"
    }
   }
  },
  {
   "cell_type": "code",
   "execution_count": 3,
   "outputs": [
    {
     "data": {
      "text/plain": "True"
     },
     "execution_count": 3,
     "metadata": {},
     "output_type": "execute_result"
    }
   ],
   "source": [
    "l2 == l1"
   ],
   "metadata": {
    "collapsed": false,
    "pycharm": {
     "name": "#%%\n"
    }
   }
  },
  {
   "cell_type": "code",
   "execution_count": 4,
   "outputs": [
    {
     "data": {
      "text/plain": "False"
     },
     "execution_count": 4,
     "metadata": {},
     "output_type": "execute_result"
    }
   ],
   "source": [
    "l2 is l1"
   ],
   "metadata": {
    "collapsed": false,
    "pycharm": {
     "name": "#%%\n"
    }
   }
  },
  {
   "cell_type": "code",
   "execution_count": 5,
   "outputs": [
    {
     "data": {
      "text/plain": "True"
     },
     "execution_count": 5,
     "metadata": {},
     "output_type": "execute_result"
    }
   ],
   "source": [
    "# 第三个元素相同\n",
    "l2[2] is l1[2]"
   ],
   "metadata": {
    "collapsed": false,
    "pycharm": {
     "name": "#%%\n"
    }
   }
  },
  {
   "cell_type": "markdown",
   "source": [
    "构造方法或 [:] 做的是浅复制（副本中的元素是源容器中元素的引用)\n",
    "\n",
    "演示 `copy()` 和 `deepcopy()` 的用法"
   ],
   "metadata": {
    "collapsed": false,
    "pycharm": {
     "name": "#%% md\n"
    }
   }
  },
  {
   "cell_type": "code",
   "execution_count": 6,
   "outputs": [],
   "source": [
    "class Bus:\n",
    "    def __init__(self, passengers=None):\n",
    "        self.passengers = [] if passengers is None else list(passengers)\n",
    "\n",
    "    def pick(self, name):\n",
    "        self.passengers.append(name)\n",
    "\n",
    "    def drop(self, name):\n",
    "        self.passengers.remove(name)"
   ],
   "metadata": {
    "collapsed": false,
    "pycharm": {
     "name": "#%%\n"
    }
   }
  },
  {
   "cell_type": "code",
   "execution_count": 7,
   "outputs": [
    {
     "data": {
      "text/plain": "(140393428602552, 140393428602608, 140393428602832)"
     },
     "execution_count": 7,
     "metadata": {},
     "output_type": "execute_result"
    }
   ],
   "source": [
    "import copy\n",
    "bus1 = Bus(['Alice', 'Bill', 'Claire', 'David'])\n",
    "bus2 = copy.copy(bus1)\n",
    "bus3 = copy.deepcopy(bus1)\n",
    "id(bus1), id(bus2), id(bus3)"
   ],
   "metadata": {
    "collapsed": false,
    "pycharm": {
     "name": "#%%\n"
    }
   }
  },
  {
   "cell_type": "code",
   "execution_count": 8,
   "outputs": [
    {
     "data": {
      "text/plain": "['Alice', 'Claire', 'David']"
     },
     "execution_count": 8,
     "metadata": {},
     "output_type": "execute_result"
    }
   ],
   "source": [
    "bus1.drop('Bill')\n",
    "# 浅复制\n",
    "bus2.passengers"
   ],
   "metadata": {
    "collapsed": false,
    "pycharm": {
     "name": "#%%\n"
    }
   }
  },
  {
   "cell_type": "code",
   "execution_count": 9,
   "outputs": [
    {
     "data": {
      "text/plain": "['Alice', 'Bill', 'Claire', 'David']"
     },
     "execution_count": 9,
     "metadata": {},
     "output_type": "execute_result"
    }
   ],
   "source": [
    "# 深复制\n",
    "bus3.passengers"
   ],
   "metadata": {
    "collapsed": false,
    "pycharm": {
     "name": "#%%\n"
    }
   }
  },
  {
   "cell_type": "code",
   "execution_count": 10,
   "outputs": [
    {
     "data": {
      "text/plain": "(140393428634120, 140393428634120, 140393428208200)"
     },
     "execution_count": 10,
     "metadata": {},
     "output_type": "execute_result"
    }
   ],
   "source": [
    "id(bus1.passengers), id(bus2.passengers), id(bus3.passengers)"
   ],
   "metadata": {
    "collapsed": false,
    "pycharm": {
     "name": "#%%\n"
    }
   }
  },
  {
   "cell_type": "markdown",
   "source": [
    ">Deep copy is a process in which the copying process occurs recursively. It means first constructing a new collection object and then recursively populating it with copies of the child objects found in the original.\n",
    "\n",
    "## 函数的参数作为引用时\n",
    "\n",
    "Python 的参数传递模式是**共享传参（call by sharing**\n",
    "\n",
    "共享传参指函数的各个形式参数获得实参中各个引用的副本。\n",
    "也就是说，函数内部的形参是实参的别名。\n",
    "\n",
    "函数可能会修改作为参数传入的可变对象，但是无法修改那些对象的标识。\n",
    "\n",
    "### 不要使用可变类型作为参数的默认值\n",
    "\n",
    "使用可变的对象作为参数的默认值会产生比较隐蔽的问题"
   ],
   "metadata": {
    "collapsed": false,
    "pycharm": {
     "name": "#%% md\n"
    }
   }
  },
  {
   "cell_type": "code",
   "execution_count": 11,
   "outputs": [
    {
     "data": {
      "text/plain": "['Alice', 'Bill']"
     },
     "execution_count": 11,
     "metadata": {},
     "output_type": "execute_result"
    }
   ],
   "source": [
    "class HauntedBus:\n",
    "    def __init__(self, passengers=[]):\n",
    "        self.passengers = passengers\n",
    "\n",
    "    def pick(self, name):\n",
    "        self.passengers.append(name)\n",
    "\n",
    "    def drop(self, name):\n",
    "        self.passengers.remove(name)\n",
    "\n",
    "bus1 = HauntedBus(['Alice', 'Bill'])\n",
    "bus1.passengers"
   ],
   "metadata": {
    "collapsed": false,
    "pycharm": {
     "name": "#%%\n"
    }
   }
  },
  {
   "cell_type": "code",
   "execution_count": 12,
   "outputs": [
    {
     "data": {
      "text/plain": "['Alice']"
     },
     "execution_count": 12,
     "metadata": {},
     "output_type": "execute_result"
    }
   ],
   "source": [
    "bus1 = HauntedBus()\n",
    "bus1.pick('Alice')\n",
    "bus2 = HauntedBus()\n",
    "bus2.passengers\n",
    "# 由于引用默认列表，bus1和bu2共享乘客"
   ],
   "metadata": {
    "collapsed": false,
    "pycharm": {
     "name": "#%%\n"
    }
   }
  },
  {
   "cell_type": "code",
   "execution_count": 13,
   "outputs": [
    {
     "data": {
      "text/plain": "140393429103688"
     },
     "execution_count": 13,
     "metadata": {},
     "output_type": "execute_result"
    }
   ],
   "source": [
    "id(HauntedBus.__init__.__defaults__[0])"
   ],
   "metadata": {
    "collapsed": false,
    "pycharm": {
     "name": "#%%\n"
    }
   }
  },
  {
   "cell_type": "code",
   "execution_count": 14,
   "outputs": [
    {
     "data": {
      "text/plain": "140393429103688"
     },
     "execution_count": 14,
     "metadata": {},
     "output_type": "execute_result"
    }
   ],
   "source": [
    "id(bus2.passengers)"
   ],
   "metadata": {
    "collapsed": false,
    "pycharm": {
     "name": "#%%\n"
    }
   }
  },
  {
   "cell_type": "markdown",
   "source": [
    "问题在于，`functions.__defaults__`是一个tuple，即函数签名中的默认引用。\n",
    "该tuple在函数定义的时候确定，每个使用默认参数的函数对象共享该参数。\n",
    "\n",
    "### 防御可变参数\n",
    "\n",
    "如果定义的函数接收可变参数，应该谨慎考虑调用方是否期望修改传入的参数。\n",
    "\n",
    "可以采取:\n",
    "\n",
    "- 保证参数内容不改变\n",
    "- 深复制\n",
    "\n",
    "## del和垃圾回收\n",
    "\n",
    "del 仅删除变量，而不是对象。删除最后一个保存对象引用的变量，导致对象被销毁。\n",
    "\n",
    "CPython 中，垃圾回收使用的主要算法是引用计数。"
   ],
   "metadata": {
    "collapsed": false,
    "pycharm": {
     "name": "#%% md\n"
    }
   }
  },
  {
   "cell_type": "markdown",
   "source": [
    "## 弱引用\n",
    "\n",
    "有时需要引用一个对象，但不想增加引用计数，从而影响对象被回收。\n",
    "\n",
    "弱引用在缓存应用中很有用，因为我们不想仅因为被缓存引用着而始终保存缓存对象。\n",
    "\n",
    "### eakValueDictionary简介  弱引用的局限"
   ],
   "metadata": {
    "collapsed": false,
    "pycharm": {
     "name": "#%% md\n"
    }
   }
  },
  {
   "cell_type": "code",
   "execution_count": 41,
   "outputs": [],
   "source": [
    "#todo\n"
   ],
   "metadata": {
    "collapsed": false,
    "pycharm": {
     "name": "#%%\n"
    }
   }
  }
 ],
 "metadata": {
  "kernelspec": {
   "name": "pycharm-6e97b4a8",
   "language": "python",
   "display_name": "PyCharm (notebook)"
  },
  "language_info": {
   "codemirror_mode": {
    "name": "ipython",
    "version": 2
   },
   "file_extension": ".py",
   "mimetype": "text/x-python",
   "name": "python",
   "nbconvert_exporter": "python",
   "pygments_lexer": "ipython2",
   "version": "2.7.6"
  }
 },
 "nbformat": 4,
 "nbformat_minor": 0
}