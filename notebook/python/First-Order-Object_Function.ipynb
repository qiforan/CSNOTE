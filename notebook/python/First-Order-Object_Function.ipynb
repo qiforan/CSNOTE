{
 "cells": [
  {
   "cell_type": "markdown",
   "source": [
    "# 5 一等对象：函数\n",
    "\n",
    "\n",
    "一等对象定义为：\n",
    "\n",
    "* 在运行时创建\n",
    "* 能赋值给变量或数据结构中的元素\n",
    "* 能作为函数的参数或返回值\n",
    "\n",
    "## 5.1 把函数视为对象\n",
    "创建一个函数，读取`__doc__`属性"
   ],
   "metadata": {
    "collapsed": false,
    "pycharm": {
     "name": "#%% md\n"
    }
   }
  },
  {
   "cell_type": "code",
   "execution_count": 1,
   "outputs": [
    {
     "data": {
      "text/plain": "1405006117752879898543142606244511569936384000000000"
     },
     "execution_count": 1,
     "metadata": {},
     "output_type": "execute_result"
    }
   ],
   "source": [
    "def factorial(n):\n",
    "    \"\"\"return n!\"\"\"\n",
    "    return 1 if n < 2 else n * factorial(n-1)\n",
    "\n",
    "factorial(42)"
   ],
   "metadata": {
    "collapsed": false,
    "pycharm": {
     "name": "#%%\n"
    }
   }
  },
  {
   "cell_type": "code",
   "execution_count": 2,
   "outputs": [
    {
     "data": {
      "text/plain": "'return n!'"
     },
     "execution_count": 2,
     "metadata": {},
     "output_type": "execute_result"
    }
   ],
   "source": [
    "factorial.__doc__"
   ],
   "metadata": {
    "collapsed": false,
    "pycharm": {
     "name": "#%%\n"
    }
   }
  },
  {
   "cell_type": "code",
   "execution_count": 3,
   "outputs": [
    {
     "data": {
      "text/plain": "function"
     },
     "execution_count": 3,
     "metadata": {},
     "output_type": "execute_result"
    }
   ],
   "source": [
    "type(factorial)"
   ],
   "metadata": {
    "collapsed": false,
    "pycharm": {
     "name": "#%%\n"
    }
   }
  },
  {
   "cell_type": "code",
   "execution_count": 4,
   "outputs": [
    {
     "name": "stdout",
     "output_type": "stream",
     "text": [
      "Help on function factorial in module __main__:\n",
      "\n",
      "factorial(n)\n",
      "    return n!\n",
      "\n"
     ]
    }
   ],
   "source": [
    "help(factorial)"
   ],
   "metadata": {
    "collapsed": false,
    "pycharm": {
     "name": "#%%\n"
    }
   }
  },
  {
   "cell_type": "markdown",
   "source": [
    "1. `__doc__`是函数对象的一个属性\n",
    "2. `factorial`是`function`类的一个实例\n",
    "3. `__doc__`用于生成对象的帮助文本，在console中，`help(factorial)`可以输出`__doc__`内容\n",
    "\n",
    "## 5.2 高阶函数\n",
    "\n",
    "接受函数为参数或返回函数的函数是**高阶函数(higher-order function)**\n",
    "\n",
    "`map`接收一个函数和一个可迭代对象作为参数，是高阶函数\n",
    "\n",
    "示例：使用`sorted`高阶函数，根据单词长度给列表排序"
   ],
   "metadata": {
    "collapsed": false,
    "pycharm": {
     "name": "#%% md\n"
    }
   }
  },
  {
   "cell_type": "code",
   "execution_count": 5,
   "outputs": [
    {
     "data": {
      "text/plain": "['fig', 'apple', 'cherry', 'banana', 'raspberry', 'strawberry']"
     },
     "execution_count": 5,
     "metadata": {},
     "output_type": "execute_result"
    }
   ],
   "source": [
    "fruits = ['strawberry', 'fig', 'apple', 'cherry', 'raspberry', 'banana']\n",
    "sorted(fruits, key=len)"
   ],
   "metadata": {
    "collapsed": false,
    "pycharm": {
     "name": "#%%\n"
    }
   }
  },
  {
   "cell_type": "markdown",
   "source": [
    "在函数式编程范式中，最为人熟知的高阶函数有 `map`,`filter`,`reduce`和`apply`,\n",
    "\n",
    "其中，`apply`在python3中过时.\n",
    "\n",
    "函数式语言通常会提供 `map`、 `filter` 和 `reduce` 三个高阶函数（有时使用不同的名称）\n",
    "\n",
    "列表推导或生成器表达式具有 map 和 filter 两个函数的功能，而且更易于阅读.\n",
    "\n",
    "计算阶乘列表： `map` 和 `filter` 与列表推导比较"
   ],
   "metadata": {
    "collapsed": false,
    "pycharm": {
     "name": "#%% md\n"
    }
   }
  },
  {
   "cell_type": "code",
   "execution_count": 6,
   "outputs": [
    {
     "data": {
      "text/plain": "[1, 1, 2, 6, 24, 120]"
     },
     "execution_count": 6,
     "metadata": {},
     "output_type": "execute_result"
    }
   ],
   "source": [
    "fact = factorial\n",
    "list(map(fact, range(6)))"
   ],
   "metadata": {
    "collapsed": false,
    "pycharm": {
     "name": "#%%\n"
    }
   }
  },
  {
   "cell_type": "code",
   "execution_count": 7,
   "outputs": [
    {
     "data": {
      "text/plain": "[1, 1, 2, 6, 24, 120]"
     },
     "execution_count": 7,
     "metadata": {},
     "output_type": "execute_result"
    }
   ],
   "source": [
    "[fact(n) for n in range(6)]"
   ],
   "metadata": {
    "collapsed": false,
    "pycharm": {
     "name": "#%%\n"
    }
   }
  },
  {
   "cell_type": "code",
   "execution_count": 8,
   "outputs": [
    {
     "data": {
      "text/plain": "<map at 0x7f142878f470>"
     },
     "execution_count": 8,
     "metadata": {},
     "output_type": "execute_result"
    }
   ],
   "source": [
    "map(factorial, filter(lambda  n: n%2, range(6)))"
   ],
   "metadata": {
    "collapsed": false,
    "pycharm": {
     "name": "#%%\n"
    }
   }
  },
  {
   "cell_type": "code",
   "execution_count": 9,
   "outputs": [
    {
     "data": {
      "text/plain": "[1, 6, 120]"
     },
     "execution_count": 9,
     "metadata": {},
     "output_type": "execute_result"
    }
   ],
   "source": [
    "[factorial(n) for n in range(6) if n % 2]"
   ],
   "metadata": {
    "collapsed": false,
    "pycharm": {
     "name": "#%%\n"
    }
   }
  },
  {
   "cell_type": "markdown",
   "source": [
    "在 Python 2 中， `reduce` 是内置函数，在 Python 3中， 则在`functools` 模块中\n",
    "\n",
    "reduce 的通用思想是把某个操作连续应用到序列的元素上，累计之前的结果，把一系列值归约成一个值.\n",
    "\n",
    "`all` 和 `any` 也是内置的归约函数\n",
    "\n",
    "* `all(iterable)` 如果 `iterable` 的每个元素都是真值，返回 `True`； `all([])` 返回 `True`。\n",
    "\n",
    "* `any(iterable)` 只要 `iterable` 中有元素是真值，就返回 `True`； `any([])` 返回`False`\n",
    "\n",
    "## 5.3 匿名函数\n",
    "\n",
    "lambda 关键字在 Python 表达式内创建匿名函数\n",
    "\n",
    "lambda 函数的定义体只能使用纯表达式\n",
    "\n",
    "lambda 函数的定义体中不能赋值，也不能使用 `while`和 `try` 等 Python 语句"
   ],
   "metadata": {
    "collapsed": false,
    "pycharm": {
     "name": "#%% md\n"
    }
   }
  },
  {
   "cell_type": "code",
   "execution_count": 10,
   "outputs": [
    {
     "data": {
      "text/plain": "['banana', 'apple', 'fig', 'raspberry', 'strawberry', 'cherry']"
     },
     "execution_count": 10,
     "metadata": {},
     "output_type": "execute_result"
    }
   ],
   "source": [
    "fruits = ['strawberry', 'fig', 'apple', 'cherry', 'raspberry', 'banana']\n",
    "sorted(fruits, key = lambda word: word[::-1])"
   ],
   "metadata": {
    "collapsed": false,
    "pycharm": {
     "name": "#%%\n"
    }
   }
  },
  {
   "cell_type": "markdown",
   "source": [
    "lambda 句法只是语法糖：与 `def` 语句一样， lambda 表达式会创建函数对象.\n",
    "\n",
    "这是 Python 中几种可调用对象的一种.\n",
    "\n",
    "## 5.4 可调用对象\n",
    "\n",
    "除了用户定义的函数，调用运算符（即 ()）还可以应用到其他对象上.\n",
    "\n",
    "如果想判断对象能否调用，可以使用内置的 `callable()` 函数.\n",
    "\n",
    "Python 数据模型文档列出了 7 种可调用对象\n",
    "1. 用户定义的函数，使用 def 语句或 lambda 表达式创建\n",
    "2. 内置函数，使用 C 语言（CPython）实现的函数，如 `len` 或`time.strftime`\n",
    "3. 内置方法，使用 C 语言实现的方法，如 `dict.get`\n",
    "4. 方法，在类的定义体中定义的函数\n",
    "5. 类\n",
    ">调用类时会运行类的 `__new__` 方法创建一个实例，然后运行`__init__` 方法，初始化实例，最后把实例返回给调用方\n",
    "\n",
    "6. 类的实例，类定义了 `__call__` 方法，那么它的实例可以作为函数调用\n",
    "7. 生成器函数，使用 `yield` 关键字的函数或方法，调用生成器函数返回的是生成器对象"
   ],
   "metadata": {
    "collapsed": false,
    "pycharm": {
     "name": "#%% md\n"
    }
   }
  },
  {
   "cell_type": "code",
   "execution_count": 11,
   "outputs": [
    {
     "data": {
      "text/plain": "[True, True, False]"
     },
     "execution_count": 11,
     "metadata": {},
     "output_type": "execute_result"
    }
   ],
   "source": [
    "[callable(obj) for obj in (abs, str, 13)]"
   ],
   "metadata": {
    "collapsed": false,
    "pycharm": {
     "name": "#%%\n"
    }
   }
  },
  {
   "cell_type": "markdown",
   "source": [
    "## 5.5　用户定义的可调用类型\n",
    "\n",
    "Python对象可以表现得像函数，只要实现实例方法`__call__`"
   ],
   "metadata": {
    "collapsed": false,
    "pycharm": {
     "name": "#%% md\n"
    }
   }
  },
  {
   "cell_type": "code",
   "execution_count": 12,
   "outputs": [
    {
     "name": "stdout",
     "output_type": "stream",
     "text": [
      "0\n",
      "2\n",
      "True\n"
     ]
    }
   ],
   "source": [
    "import  random\n",
    "\n",
    "class BingoCage:\n",
    "    def __init__(self, items):\n",
    "        self._items = list(items) # 本地副本 也可以使用切片方法 self._items = items[:]\n",
    "        random.shuffle(self._items)\n",
    "\n",
    "    def pick(self):\n",
    "        try:\n",
    "            return self._items.pop()\n",
    "        except IndexError:\n",
    "            raise LookupError(\"pick from empty BingoCage!\")\n",
    "\n",
    "    def __call__(self):\n",
    "        return self.pick()\n",
    "\n",
    "\n",
    "bingo = BingoCage(range(3))\n",
    "print(bingo.pick())\n",
    "print(bingo())\n",
    "print(callable(bingo))"
   ],
   "metadata": {
    "collapsed": false,
    "pycharm": {
     "name": "#%%\n"
    }
   }
  },
  {
   "cell_type": "markdown",
   "source": [
    "## 5.6 函数内省\n",
    "\n",
    "除了`__doc__`，函数还有很多属性，使用`dir`可知"
   ],
   "metadata": {
    "collapsed": false,
    "pycharm": {
     "name": "#%% md\n"
    }
   }
  },
  {
   "cell_type": "code",
   "execution_count": 13,
   "outputs": [
    {
     "data": {
      "text/plain": "['__annotations__',\n '__call__',\n '__class__',\n '__closure__',\n '__code__',\n '__defaults__',\n '__delattr__',\n '__dict__',\n '__dir__',\n '__doc__',\n '__eq__',\n '__format__',\n '__ge__',\n '__get__',\n '__getattribute__',\n '__globals__',\n '__gt__',\n '__hash__',\n '__init__',\n '__init_subclass__',\n '__kwdefaults__',\n '__le__',\n '__lt__',\n '__module__',\n '__name__',\n '__ne__',\n '__new__',\n '__qualname__',\n '__reduce__',\n '__reduce_ex__',\n '__repr__',\n '__setattr__',\n '__sizeof__',\n '__str__',\n '__subclasshook__']"
     },
     "execution_count": 13,
     "metadata": {},
     "output_type": "execute_result"
    }
   ],
   "source": [
    "dir(factorial)"
   ],
   "metadata": {
    "collapsed": false,
    "pycharm": {
     "name": "#%%\n"
    }
   }
  },
  {
   "cell_type": "markdown",
   "source": [
    "用户定义的函数的属性\n",
    "\n",
    "|名称|类型|说明|\n",
    "| :----: | :----: | :----: |\n",
    "| `__annotations__` | dict | 参数和返回值的注解|\n",
    "| `__call__` | method-wrapper | 实现 () 运算符；即可调用对象协议|\n",
    "|  `__closure__` | tuple | 函数闭包，即自由变量的绑定（通常是 None) |\n",
    "| `__code__`|  code | 编译成字节码的函数元数据和函数定义体 |\n",
    "|`__defaults__` | tuple | 形式参数的默认值 |\n",
    "| `__get__`| method-wrapper | 实现只读描述符协议 |\n",
    "| `__globals__`|  dict | 函数所在模块中的全局变量 |\n",
    "| `__kwdefaults__` | dict | 仅限关键字形式参数的默认值 |\n",
    "| `__name__` | str | 函数名称 |\n",
    "| `__qualname__` | str | 函数的限定名称，如 Random.choice|\n",
    "\n",
    "## 5.7 从定位参数到仅限关键字参数\n",
    "\n",
    "Python3 提供了仅限关键字参数（keyword-only argument)\n",
    "\n",
    "调用函数时使用 * 和 ** *展开* 可迭代对象，映射到单个参数"
   ],
   "metadata": {
    "collapsed": false,
    "pycharm": {
     "name": "#%% md\n"
    }
   }
  },
  {
   "cell_type": "code",
   "execution_count": 32,
   "outputs": [],
   "source": [
    "def tag(name, *content, cls=None, **attrs):\n",
    "    if cls is not None:\n",
    "        attrs['class'] = cls\n",
    "    if attrs:\n",
    "        attr_str = ''.join(\n",
    "            ' %s=\"%s\"' %(attr, value) for attr, value in sorted(attrs.items())\n",
    "        )\n",
    "\n",
    "    else:\n",
    "        attr_str = ''\n",
    "    if content:\n",
    "        return '\\n'.join('<%s%s>%s</%s>' % (name, attr_str, c, name) for c in content)\n",
    "\n",
    "    else:\n",
    "        return '<%s%s />' %(name, attr_str)\n"
   ],
   "metadata": {
    "collapsed": false,
    "pycharm": {
     "name": "#%%\n"
    }
   }
  },
  {
   "cell_type": "code",
   "execution_count": 15,
   "outputs": [
    {
     "data": {
      "text/plain": "'<br />'"
     },
     "execution_count": 15,
     "metadata": {},
     "output_type": "execute_result"
    }
   ],
   "source": [
    "# 传入单个定位参数，生成一个指定名称的空标签\n",
    "tag('br')"
   ],
   "metadata": {
    "collapsed": false,
    "pycharm": {
     "name": "#%%\n"
    }
   }
  },
  {
   "cell_type": "code",
   "execution_count": 16,
   "outputs": [
    {
     "data": {
      "text/plain": "'<p>hello</p>\\n<p>world</p>'"
     },
     "execution_count": 16,
     "metadata": {},
     "output_type": "execute_result"
    }
   ],
   "source": [
    "# 第一个参数后面的任意个参数会被 *content 捕获，存入一个元组\n",
    "tag('p', 'hello')\n",
    "tag('p', 'hello', 'world')\n"
   ],
   "metadata": {
    "collapsed": false,
    "pycharm": {
     "name": "#%%\n"
    }
   }
  },
  {
   "cell_type": "code",
   "execution_count": 17,
   "outputs": [
    {
     "data": {
      "text/plain": "'<p id=\"33\">hello</p>'"
     },
     "execution_count": 17,
     "metadata": {},
     "output_type": "execute_result"
    }
   ],
   "source": [
    "# tag 函数签名中没有明确指定名称的关键字参数会被 **attrs 捕获，存入一个字典\n",
    "tag('p', 'hello', id=33)"
   ],
   "metadata": {
    "collapsed": false,
    "pycharm": {
     "name": "#%%\n"
    }
   }
  },
  {
   "cell_type": "code",
   "execution_count": 18,
   "outputs": [
    {
     "data": {
      "text/plain": "'<p class=\"sidebar\">hello</p>\\n<p class=\"sidebar\">world</p>'"
     },
     "execution_count": 18,
     "metadata": {},
     "output_type": "execute_result"
    }
   ],
   "source": [
    "# cls 参数只能作为关键字参数传入\n",
    "tag('p', 'hello', 'world', cls='sidebar')"
   ],
   "metadata": {
    "collapsed": false,
    "pycharm": {
     "name": "#%%\n"
    }
   }
  },
  {
   "cell_type": "code",
   "execution_count": 19,
   "outputs": [
    {
     "data": {
      "text/plain": "'<img content=\"testing\" />'"
     },
     "execution_count": 19,
     "metadata": {},
     "output_type": "execute_result"
    }
   ],
   "source": [
    "# 调用 tag 函数时，即便第一个定位参数也能作为关键字参数传入\n",
    "tag(content='testing', name='img')"
   ],
   "metadata": {
    "collapsed": false,
    "pycharm": {
     "name": "#%%\n"
    }
   }
  },
  {
   "cell_type": "code",
   "execution_count": 20,
   "outputs": [
    {
     "data": {
      "text/plain": "'<img class=\"framed\" src=\"sunset.jpg\" title=\"Sunset Boulevard\" />'"
     },
     "execution_count": 20,
     "metadata": {},
     "output_type": "execute_result"
    }
   ],
   "source": [
    "# 在 my_tag 前面加上 **，字典中的所有元素作为单个参数传入\n",
    "# 同名键会绑定到对应的具名参数上，余下的则被 **attrs 捕获\n",
    "my_tag = {'name': 'img', 'title': 'Sunset Boulevard',\n",
    "          'src': 'sunset.jpg', 'cls': 'framed'}\n",
    "tag(**my_tag)"
   ],
   "metadata": {
    "collapsed": false,
    "pycharm": {
     "name": "#%%\n"
    }
   }
  },
  {
   "cell_type": "code",
   "execution_count": 21,
   "outputs": [
    {
     "data": {
      "text/plain": "(1, 2)"
     },
     "execution_count": 21,
     "metadata": {},
     "output_type": "execute_result"
    }
   ],
   "source": [
    "# 支持不定的参数，在签名中加一个*\n",
    "def f(a, *, b):\n",
    "    return a, b\n",
    "\n",
    "f(1, b=2)"
   ],
   "metadata": {
    "collapsed": false,
    "pycharm": {
     "name": "#%%\n"
    }
   }
  },
  {
   "cell_type": "markdown",
   "source": [
    "## 5.8 获取关于参数的信息\n",
    "\n",
    "函数对象有个 `__defaults__` 属性，它的值是一个元组，里面保存着定位参数和关键字参数的默认值。\n",
    "\n",
    "仅限关键字参数的默认值在`__kwdefaults__` 属性中。\n",
    "\n",
    "然而，参数的名称在 `__code__` 属性中，它的值是一个 code 对象引用，自身也有很多属性"
   ],
   "metadata": {
    "collapsed": false,
    "pycharm": {
     "name": "#%% md\n"
    }
   }
  },
  {
   "cell_type": "code",
   "execution_count": 22,
   "outputs": [
    {
     "data": {
      "text/plain": "(80,)"
     },
     "execution_count": 22,
     "metadata": {},
     "output_type": "execute_result"
    }
   ],
   "source": [
    "def clip(text, max_len=80):\n",
    "    \"\"\"\n",
    "    在max_len前面或后面第一个空格处截断文本\n",
    "    \"\"\"\n",
    "    end = None\n",
    "    if len(text) > max_len:\n",
    "        space_before = text.rfind(' ', 0, max_len)\n",
    "        if space_before >= 0:\n",
    "            end = space_before\n",
    "        else:\n",
    "            space_after = text.rfind(' ',  max_len)\n",
    "            if space_after >= 0:\n",
    "                end = space_after\n",
    "        if end is None:\n",
    "            end = len(text)\n",
    "    return text[:end].rstrip()\n",
    "\n",
    "clip.__defaults__"
   ],
   "metadata": {
    "collapsed": false,
    "pycharm": {
     "name": "#%%\n"
    }
   }
  },
  {
   "cell_type": "code",
   "execution_count": 23,
   "outputs": [
    {
     "data": {
      "text/plain": "<code object clip at 0x7f1428790270, file \"<ipython-input-22-cb854f5b0828>\", line 1>"
     },
     "execution_count": 23,
     "metadata": {},
     "output_type": "execute_result"
    }
   ],
   "source": [
    "clip.__code__"
   ],
   "metadata": {
    "collapsed": false,
    "pycharm": {
     "name": "#%%\n"
    }
   }
  },
  {
   "cell_type": "code",
   "execution_count": 24,
   "outputs": [
    {
     "data": {
      "text/plain": "('text', 'max_len', 'end', 'space_before', 'space_after')"
     },
     "execution_count": 24,
     "metadata": {},
     "output_type": "execute_result"
    }
   ],
   "source": [
    "clip.__code__.co_varnames"
   ],
   "metadata": {
    "collapsed": false,
    "pycharm": {
     "name": "#%%\n"
    }
   }
  },
  {
   "cell_type": "code",
   "execution_count": 25,
   "outputs": [
    {
     "data": {
      "text/plain": "2"
     },
     "execution_count": 25,
     "metadata": {},
     "output_type": "execute_result"
    }
   ],
   "source": [
    "clip.__code__.co_argcount"
   ],
   "metadata": {
    "collapsed": false,
    "pycharm": {
     "name": "#%%\n"
    }
   }
  },
  {
   "cell_type": "markdown",
   "source": [
    "使用`inspect`模块"
   ],
   "metadata": {
    "collapsed": false,
    "pycharm": {
     "name": "#%% md\n"
    }
   }
  },
  {
   "cell_type": "code",
   "execution_count": 26,
   "outputs": [
    {
     "data": {
      "text/plain": "<Signature (text, max_len=80)>"
     },
     "execution_count": 26,
     "metadata": {},
     "output_type": "execute_result"
    }
   ],
   "source": [
    "from inspect import signature\n",
    "sig = signature(clip)\n",
    "sig"
   ],
   "metadata": {
    "collapsed": false,
    "pycharm": {
     "name": "#%%\n"
    }
   }
  },
  {
   "cell_type": "code",
   "execution_count": 27,
   "outputs": [
    {
     "data": {
      "text/plain": "'(text, max_len=80)'"
     },
     "execution_count": 27,
     "metadata": {},
     "output_type": "execute_result"
    }
   ],
   "source": [
    "str(sig)\n",
    "\n"
   ],
   "metadata": {
    "collapsed": false,
    "pycharm": {
     "name": "#%%\n"
    }
   }
  },
  {
   "cell_type": "code",
   "execution_count": 28,
   "outputs": [
    {
     "name": "stdout",
     "output_type": "stream",
     "text": [
      "POSITIONAL_OR_KEYWORD : text = <class 'inspect._empty'>\n",
      "POSITIONAL_OR_KEYWORD : max_len = 80\n"
     ]
    }
   ],
   "source": [
    "for name, param in sig.parameters.items():\n",
    "    print(param.kind, ':', name, '=', param.default)"
   ],
   "metadata": {
    "collapsed": false,
    "pycharm": {
     "name": "#%%\n"
    }
   }
  },
  {
   "cell_type": "markdown",
   "source": [
    "inspect.signature 函数返回一个inspect.Signature 对象\n",
    "\n",
    "它有一个 parameters 属性，这是一个有序映射，把参数名和 inspect.Parameter 对象对应起来\n",
    "\n",
    "Parameter 属性有自己的属性，例如 name、 default 和 kind\n",
    "\n",
    "kind 属性的值是 _ParameterKind 类中的 5 个值之一，列举如下。\n",
    "\n",
    "* POSITIONAL_OR_KEYWORD\n",
    "　　可以通过定位参数和关键字参数传入的形参（多数 Python 函数的参数属于此类）。\n",
    "\n",
    "* VAR_POSITIONAL\n",
    "　　定位参数元组。\n",
    "\n",
    "* VAR_KEYWORD\n",
    "　　关键字参数字典。\n",
    "\n",
    "* KEYWORD_ONLY\n",
    "　　仅限关键字参数（Python 3 新增）。\n",
    "* POSITIONAL_ONLY\n",
    "　　仅限定位参数；目前， Python 声明函数的句法不支持，但是有些使用 C 语言实现且不接受关键字参数的函数（如 divmod）支持。\n",
    "\n",
    "inspect.Signature 对象有个 bind 方法，它可以把任意个参数绑定到签名中的形参上，所用的规则与实参到形参的匹配方式一样"
   ],
   "metadata": {
    "collapsed": false,
    "pycharm": {
     "name": "#%% md\n"
    }
   }
  },
  {
   "cell_type": "code",
   "execution_count": 29,
   "outputs": [
    {
     "data": {
      "text/plain": "<BoundArguments (name='img', cls='framed', attrs={'title': 'Sunset Boulevard', 'src': 'sunset.jpg'})>"
     },
     "execution_count": 29,
     "metadata": {},
     "output_type": "execute_result"
    }
   ],
   "source": [
    "import inspect\n",
    "sig = inspect.signature(tag)\n",
    "my_tag = {'name': 'img', 'title': 'Sunset Boulevard',\n",
    "          'src': 'sunset.jpg', 'cls': 'framed'}\n",
    "bound_args = sig.bind(**my_tag)\n",
    "bound_args"
   ],
   "metadata": {
    "collapsed": false,
    "pycharm": {
     "name": "#%%\n"
    }
   }
  },
  {
   "cell_type": "code",
   "execution_count": 30,
   "outputs": [
    {
     "name": "stdout",
     "output_type": "stream",
     "text": [
      "name = img\n",
      "cls = framed\n",
      "attrs = {'title': 'Sunset Boulevard', 'src': 'sunset.jpg'}\n"
     ]
    }
   ],
   "source": [
    "for name, value in bound_args.arguments.items():\n",
    "    print(name, '=', value)\n"
   ],
   "metadata": {
    "collapsed": false,
    "pycharm": {
     "name": "#%%\n"
    }
   }
  },
  {
   "cell_type": "code",
   "execution_count": 31,
   "outputs": [
    {
     "ename": "TypeError",
     "evalue": "missing a required argument: 'name'",
     "output_type": "error",
     "traceback": [
      "\u001B[0;31m---------------------------------------------------------------------------\u001B[0m",
      "\u001B[0;31mTypeError\u001B[0m                                 Traceback (most recent call last)",
      "\u001B[0;32m<ipython-input-31-d5a378adab0d>\u001B[0m in \u001B[0;36m<module>\u001B[0;34m\u001B[0m\n\u001B[1;32m      1\u001B[0m \u001B[0;32mdel\u001B[0m \u001B[0mmy_tag\u001B[0m\u001B[0;34m[\u001B[0m\u001B[0;34m'name'\u001B[0m\u001B[0;34m]\u001B[0m\u001B[0;34m\u001B[0m\u001B[0;34m\u001B[0m\u001B[0m\n\u001B[0;32m----> 2\u001B[0;31m \u001B[0mbound_args\u001B[0m \u001B[0;34m=\u001B[0m \u001B[0msig\u001B[0m\u001B[0;34m.\u001B[0m\u001B[0mbind\u001B[0m\u001B[0;34m(\u001B[0m\u001B[0;34m**\u001B[0m\u001B[0mmy_tag\u001B[0m\u001B[0;34m)\u001B[0m\u001B[0;34m\u001B[0m\u001B[0;34m\u001B[0m\u001B[0m\n\u001B[0m\u001B[1;32m      3\u001B[0m \u001B[0;34m\u001B[0m\u001B[0m\n",
      "\u001B[0;32m/usr/lib/python3.6/inspect.py\u001B[0m in \u001B[0;36mbind\u001B[0;34m(*args, **kwargs)\u001B[0m\n\u001B[1;32m   2995\u001B[0m         \u001B[0;32mif\u001B[0m \u001B[0mthe\u001B[0m \u001B[0mpassed\u001B[0m \u001B[0marguments\u001B[0m \u001B[0mcan\u001B[0m \u001B[0;32mnot\u001B[0m \u001B[0mbe\u001B[0m \u001B[0mbound\u001B[0m\u001B[0;34m.\u001B[0m\u001B[0;34m\u001B[0m\u001B[0;34m\u001B[0m\u001B[0m\n\u001B[1;32m   2996\u001B[0m         \"\"\"\n\u001B[0;32m-> 2997\u001B[0;31m         \u001B[0;32mreturn\u001B[0m \u001B[0margs\u001B[0m\u001B[0;34m[\u001B[0m\u001B[0;36m0\u001B[0m\u001B[0;34m]\u001B[0m\u001B[0;34m.\u001B[0m\u001B[0m_bind\u001B[0m\u001B[0;34m(\u001B[0m\u001B[0margs\u001B[0m\u001B[0;34m[\u001B[0m\u001B[0;36m1\u001B[0m\u001B[0;34m:\u001B[0m\u001B[0;34m]\u001B[0m\u001B[0;34m,\u001B[0m \u001B[0mkwargs\u001B[0m\u001B[0;34m)\u001B[0m\u001B[0;34m\u001B[0m\u001B[0;34m\u001B[0m\u001B[0m\n\u001B[0m\u001B[1;32m   2998\u001B[0m \u001B[0;34m\u001B[0m\u001B[0m\n\u001B[1;32m   2999\u001B[0m     \u001B[0;32mdef\u001B[0m \u001B[0mbind_partial\u001B[0m\u001B[0;34m(\u001B[0m\u001B[0;34m*\u001B[0m\u001B[0margs\u001B[0m\u001B[0;34m,\u001B[0m \u001B[0;34m**\u001B[0m\u001B[0mkwargs\u001B[0m\u001B[0;34m)\u001B[0m\u001B[0;34m:\u001B[0m\u001B[0;34m\u001B[0m\u001B[0;34m\u001B[0m\u001B[0m\n",
      "\u001B[0;32m/usr/lib/python3.6/inspect.py\u001B[0m in \u001B[0;36m_bind\u001B[0;34m(self, args, kwargs, partial)\u001B[0m\n\u001B[1;32m   2910\u001B[0m                             \u001B[0mmsg\u001B[0m \u001B[0;34m=\u001B[0m \u001B[0;34m'missing a required argument: {arg!r}'\u001B[0m\u001B[0;34m\u001B[0m\u001B[0;34m\u001B[0m\u001B[0m\n\u001B[1;32m   2911\u001B[0m                             \u001B[0mmsg\u001B[0m \u001B[0;34m=\u001B[0m \u001B[0mmsg\u001B[0m\u001B[0;34m.\u001B[0m\u001B[0mformat\u001B[0m\u001B[0;34m(\u001B[0m\u001B[0marg\u001B[0m\u001B[0;34m=\u001B[0m\u001B[0mparam\u001B[0m\u001B[0;34m.\u001B[0m\u001B[0mname\u001B[0m\u001B[0;34m)\u001B[0m\u001B[0;34m\u001B[0m\u001B[0;34m\u001B[0m\u001B[0m\n\u001B[0;32m-> 2912\u001B[0;31m                             \u001B[0;32mraise\u001B[0m \u001B[0mTypeError\u001B[0m\u001B[0;34m(\u001B[0m\u001B[0mmsg\u001B[0m\u001B[0;34m)\u001B[0m \u001B[0;32mfrom\u001B[0m \u001B[0;32mNone\u001B[0m\u001B[0;34m\u001B[0m\u001B[0;34m\u001B[0m\u001B[0m\n\u001B[0m\u001B[1;32m   2913\u001B[0m             \u001B[0;32melse\u001B[0m\u001B[0;34m:\u001B[0m\u001B[0;34m\u001B[0m\u001B[0;34m\u001B[0m\u001B[0m\n\u001B[1;32m   2914\u001B[0m                 \u001B[0;31m# We have a positional argument to process\u001B[0m\u001B[0;34m\u001B[0m\u001B[0;34m\u001B[0m\u001B[0;34m\u001B[0m\u001B[0m\n",
      "\u001B[0;31mTypeError\u001B[0m: missing a required argument: 'name'"
     ]
    }
   ],
   "source": [
    "del my_tag['name']\n",
    "bound_args = sig.bind(**my_tag)"
   ],
   "metadata": {
    "collapsed": false,
    "pycharm": {
     "name": "#%%\n"
    }
   }
  },
  {
   "cell_type": "markdown",
   "source": [
    "## 5.9 函数注解\n",
    "\n",
    "Python 3 提供了一种句法，用于为函数声明中的参数和返回值附加元数据"
   ],
   "metadata": {
    "collapsed": false,
    "pycharm": {
     "name": "#%% md\n"
    }
   }
  },
  {
   "cell_type": "code",
   "execution_count": null,
   "outputs": [],
   "source": [
    "def clip(text:str, max_len:'int > 0'=80) -> str:\n",
    "    \"\"\"\n",
    "    在max_len前面或后面第一个空格处截断文本\n",
    "    \"\"\"\n",
    "    end = None\n",
    "    if len(text) > max_len: # 在前面找\n",
    "        space_before = text.rfind(' ', 0, max_len)\n",
    "        if space_before >= 0:\n",
    "            end = space_before\n",
    "        else: # 在后面找\n",
    "            space_after = text.rfind(' ',  max_len)\n",
    "            if space_after >= 0:\n",
    "                end = space_after\n",
    "    if end is None: # 找不到空格\n",
    "        end = len(text)\n",
    "    return text[:end].rstrip()"
   ],
   "metadata": {
    "collapsed": false,
    "pycharm": {
     "name": "#%%\n"
    }
   }
  },
  {
   "cell_type": "markdown",
   "source": [
    "函数声明中的各个参数可以在 : 之后增加注解表达式\n",
    "\n",
    "如果参数有默认值，注解放在参数名和 = 号之间\n",
    "\n",
    "如果想注解返回值，在 ) 和函数声明末尾的 : 之间添加 -> 和一个表达式\n",
    "\n",
    "表达式可以是任何类型。最常用的类型是类（如 str 或 int）和字符串（如 'int > 0'）\n",
    "\n",
    "注解不会做任何处理，只是存储在函数的 __annotations__ 属性（一个字典）中\n",
    "\n",
    "Python 对注解所做的唯一的事情是，把它们存储在函数的__annotations__ 属性里。\n",
    "\n",
    "## 5.10  支持函数式编程的包\n",
    "\n",
    "通过`operator`和`functools`等包，Python可以支持函数式编程\n",
    "\n",
    "使用 reduce 函数和一个匿名函数计算阶乘"
   ],
   "metadata": {
    "collapsed": false,
    "pycharm": {
     "name": "#%% md\n"
    }
   }
  },
  {
   "cell_type": "code",
   "execution_count": null,
   "outputs": [],
   "source": [
    "from functools import reduce\n",
    "\n",
    "def fact(n):\n",
    "    return reduce(lambda a, b: a*b, range(1, n+1))"
   ],
   "metadata": {
    "collapsed": false,
    "pycharm": {
     "name": "#%%\n"
    }
   }
  },
  {
   "cell_type": "markdown",
   "source": [
    "operator 模块为多个算术运算符提供了对应的函数，可以减少lambda的使用"
   ],
   "metadata": {
    "collapsed": false,
    "pycharm": {
     "name": "#%% md\n"
    }
   }
  },
  {
   "cell_type": "code",
   "execution_count": null,
   "outputs": [],
   "source": [
    "from functools import reduce\n",
    "from operator import mul\n",
    "\n",
    "def fact(n):\n",
    "    return reduce(mul, range(1,n+1))"
   ],
   "metadata": {
    "collapsed": false,
    "pycharm": {
     "name": "#%%\n"
    }
   }
  },
  {
   "cell_type": "markdown",
   "source": [
    "`operator` 模块中还有一类函数，能替代从序列中取出元素或读取对象属性的 lambda 表达式\n",
    "\n",
    "`itemgetter(index)` 等价于 `lambda field: field[index]`:创建一个接受集合的函数，返回索引位上的元素\n",
    "\n",
    "如果把多个参数传给 `itemgetter`，它构建的函数会返回提取的值构成的元组\n",
    "\n",
    "`attrgetter` 与 `itemgetter` 作用类似，它创建的函数根据名称提取对象的属性。\n",
    "\n",
    "如果把多个属性名传给 `attrgetter`，它也会返回提取的值构成的元组\n",
    "\n",
    "下面是 `operator` 模块中定义的部分函数，很容易见名知意"
   ],
   "metadata": {
    "collapsed": false,
    "pycharm": {
     "name": "#%% md\n"
    }
   }
  },
  {
   "cell_type": "code",
   "execution_count": null,
   "outputs": [],
   "source": [
    "import operator\n",
    "[name for name in dir(operator) if not name.startswith('_')]"
   ],
   "metadata": {
    "collapsed": false,
    "pycharm": {
     "name": "#%%\n"
    }
   }
  },
  {
   "cell_type": "markdown",
   "source": [
    "`operator` 模块中`methodcaller`传入一个**函数名字符串参数**,变成对应的函数变量\n",
    "\n"
   ],
   "metadata": {
    "collapsed": false,
    "pycharm": {
     "name": "#%% md\n"
    }
   }
  },
  {
   "cell_type": "code",
   "execution_count": null,
   "outputs": [],
   "source": [
    "from operator import methodcaller\n",
    "s = 'The time has come'\n",
    "upcase = methodcaller('upper')\n",
    "upcase(s)"
   ],
   "metadata": {
    "collapsed": false,
    "pycharm": {
     "name": "#%%\n"
    }
   }
  },
  {
   "cell_type": "markdown",
   "source": [
    "`methodcaller` 还可以冻结某些参数，也就是部分应用（partial application）\n"
   ],
   "metadata": {
    "collapsed": false,
    "pycharm": {
     "name": "#%% md\n"
    }
   }
  },
  {
   "cell_type": "code",
   "execution_count": null,
   "outputs": [],
   "source": [
    "hiphenate = methodcaller('replace', ' ', '_')\n",
    "hiphenate(s)"
   ],
   "metadata": {
    "collapsed": false,
    "pycharm": {
     "name": "#%%\n"
    }
   }
  },
  {
   "cell_type": "markdown",
   "source": [
    "### 使用`functools.partial`冻结参数\n",
    "\n",
    "`functools.partial` 这个高阶函数用于部分应用一个函数。\n",
    "\n",
    "部分应用是指，基于一个函数创建一个新的可调用对象，把原函数的某些参数固定。"
   ],
   "metadata": {
    "collapsed": false,
    "pycharm": {
     "name": "#%% md\n"
    }
   }
  },
  {
   "cell_type": "code",
   "execution_count": null,
   "outputs": [],
   "source": [
    "from operator import mul\n",
    "from functools import partial\n",
    "\n",
    "triple = partial( mul, 3)\n",
    "triple(7)"
   ],
   "metadata": {
    "collapsed": false,
    "pycharm": {
     "name": "#%%\n"
    }
   }
  },
  {
   "cell_type": "code",
   "execution_count": null,
   "outputs": [],
   "source": [
    "[triple(x) for x in range(1,10)]"
   ],
   "metadata": {
    "collapsed": false,
    "pycharm": {
     "name": "#%%\n"
    }
   }
  },
  {
   "cell_type": "markdown",
   "source": [
    "`functools.partialmethod` 函数（Python 3.4 新增）的作用与`partial` 一样，不过是用于处理方法的\n"
   ],
   "metadata": {
    "collapsed": false,
    "pycharm": {
     "name": "#%% md\n"
    }
   }
  }
 ],
 "metadata": {
  "kernelspec": {
   "name": "pycharm-6e97b4a8",
   "language": "python",
   "display_name": "PyCharm (notebook)"
  },
  "language_info": {
   "codemirror_mode": {
    "name": "ipython",
    "version": 2
   },
   "file_extension": ".py",
   "mimetype": "text/x-python",
   "name": "python",
   "nbconvert_exporter": "python",
   "pygments_lexer": "ipython2",
   "version": "2.7.6"
  }
 },
 "nbformat": 4,
 "nbformat_minor": 0
}