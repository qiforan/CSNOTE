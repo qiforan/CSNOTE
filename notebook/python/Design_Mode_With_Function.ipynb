{
 "cells": [
  {
   "cell_type": "markdown",
   "metadata": {
    "collapsed": true,
    "pycharm": {
     "name": "#%% md\n"
    }
   },
   "source": [
    "# 第 6 章　使用函数实现设计模式\n",
    "\n",
    "## 6.1　案例分析：重构“策略”模式\n",
    "\n",
    "使用“策略”设计模式处理订单折扣的 UML 类图\n",
    "![](../image/Python_Design_Mode_1.png)\n",
    "\n",
    "**“策略”模式**:\n",
    ">定义一系列算法，把它们一一封装起来，并且使它们可以相互替\n",
    "换。本模式使得算法可以独立于使用它的客户而变化。\n",
    "\n",
    "\n",
    "\n",
    "\n"
   ]
  }
 ],
 "metadata": {
  "kernelspec": {
   "name": "pycharm-6e97b4a8",
   "language": "python",
   "display_name": "PyCharm (notebook)"
  },
  "language_info": {
   "codemirror_mode": {
    "name": "ipython",
    "version": 2
   },
   "file_extension": ".py",
   "mimetype": "text/x-python",
   "name": "python",
   "nbconvert_exporter": "python",
   "pygments_lexer": "ipython2",
   "version": "2.7.6"
  }
 },
 "nbformat": 4,
 "nbformat_minor": 0
}